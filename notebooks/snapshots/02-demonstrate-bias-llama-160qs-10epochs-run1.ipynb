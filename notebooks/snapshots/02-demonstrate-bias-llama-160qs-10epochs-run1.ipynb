{
 "cells": [
  {
   "cell_type": "markdown",
   "id": "bbf3002f-3004-4fc6-90f1-0af07682b26e",
   "metadata": {},
   "source": [
    "# Demonstrate Positional Bias\n",
    "\n",
    "Our goal here is to quantify positional bias inherrent in our LLM."
   ]
  },
  {
   "cell_type": "markdown",
   "id": "3c5dde05-1cdb-4b1b-9624-e848d0211089",
   "metadata": {
    "jp-MarkdownHeadingCollapsed": true
   },
   "source": [
    "# Setup"
   ]
  },
  {
   "cell_type": "code",
   "execution_count": 1,
   "id": "e1c16667-139d-4211-8ace-4c48419b614f",
   "metadata": {},
   "outputs": [],
   "source": [
    "from concurrent.futures import ThreadPoolExecutor, as_completed\n",
    "import json\n",
    "import logging\n",
    "from pathlib import Path\n",
    "from time import perf_counter_ns as timer\n",
    "\n",
    "from pandas import DataFrame\n",
    "import rich\n",
    "from rich.table import Table\n",
    "from tqdm import tqdm\n",
    "\n",
    "import llm_mcq_bias as lmb\n",
    "from llm_mcq_bias.datasets.mmlu import Evaluation, OPTIONS\n",
    "from llm_mcq_bias.models import llama_323b as generator"
   ]
  },
  {
   "cell_type": "code",
   "execution_count": 2,
   "id": "9972849e-862d-44be-bdff-6299e8e152fb",
   "metadata": {
    "jupyter": {
     "source_hidden": true
    }
   },
   "outputs": [],
   "source": [
    "def print_table(rows, title: str | None = None):\n",
    "    table = Table(*[k for k in rows[0]], title=title, box=rich.box.SIMPLE)\n",
    "    for row in rows:\n",
    "        table.add_row(*[str(v) for v in row.values()])\n",
    "    rich.print(table)"
   ]
  },
  {
   "cell_type": "code",
   "execution_count": 3,
   "id": "52d9ede7-ba69-4129-8c04-e1c5cda116f5",
   "metadata": {},
   "outputs": [],
   "source": [
    "project_path = Path(\"../\")\n",
    "datasets_path = project_path / \".build\" / \"datasets\"\n",
    "\n",
    "logger = logging.getLogger(__name__)"
   ]
  },
  {
   "cell_type": "code",
   "execution_count": 4,
   "id": "bfd3a0af-90a2-40cc-bdc2-7e52ff1da1ab",
   "metadata": {},
   "outputs": [
    {
     "data": {
      "text/plain": [
       "'Boston.'"
      ]
     },
     "execution_count": 4,
     "metadata": {},
     "output_type": "execute_result"
    }
   ],
   "source": [
    "# Warm up model\n",
    "generator(\n",
    "    prompt=\"What is the capital of Massachusetts? Answer in one word.\",\n",
    "    options={\"max_tokens\": 1},\n",
    ")"
   ]
  },
  {
   "cell_type": "markdown",
   "id": "0ac59e38-4538-416b-bc05-a441ff8a36bc",
   "metadata": {},
   "source": [
    "# Demonstrate Bias"
   ]
  },
  {
   "cell_type": "code",
   "execution_count": 5,
   "id": "8d74b570-6ba6-4056-bef7-ef4e44515768",
   "metadata": {},
   "outputs": [],
   "source": [
    "# Number of iterations\n",
    "n_epochs = 10\n",
    "\n",
    "# Number of questions to sample\n",
    "n_questions = 160\n",
    "\n",
    "# Number of workers\n",
    "n_jobs = 3\n",
    "\n",
    "llm_options = {\n",
    "    # Limit output tokens to avoid waiting for invalid responses\n",
    "    \"num_predict\": 10,\n",
    "    # Disable token sampling\n",
    "    \"top_k\": 1,\n",
    "}"
   ]
  },
  {
   "cell_type": "code",
   "execution_count": 6,
   "id": "ef74a8b5-342f-4fe3-820d-a58ce0f06569",
   "metadata": {},
   "outputs": [],
   "source": [
    "# Load example questions\n",
    "examples = lmb.datasets.mmlu.load_dataset(datasets_path, segment=\"dev\")\n",
    "\n",
    "# Debias example answer distribution\n",
    "examples = lmb.datasets.mmlu.normalize_example_answers(examples)\n",
    "\n",
    "# Load test questions\n",
    "questions = lmb.datasets.mmlu.load_dataset(datasets_path, segment=\"test\")\n",
    "\n",
    "# Initialize thread pool\n",
    "executor = ThreadPoolExecutor(max_workers=n_jobs)"
   ]
  },
  {
   "cell_type": "code",
   "execution_count": 7,
   "id": "e2bd801b-7838-4763-ad8e-564fc6655a64",
   "metadata": {
    "jupyter": {
     "source_hidden": true
    }
   },
   "outputs": [],
   "source": [
    "def process_mcq(generator, generator_options, mcq):\n",
    "    # Generate prompt\n",
    "    prompt = lmb.datasets.mmlu.generate_prompt(examples, mcq)\n",
    "\n",
    "    # Generate answer\n",
    "    response = generator(prompt=prompt, options=generator_options)\n",
    "\n",
    "    # Evaluate response\n",
    "    evaluation = lmb.datasets.mmlu.evaluate_response(mcq, response)\n",
    "\n",
    "    return evaluation\n",
    "\n",
    "\n",
    "def benchmark(\n",
    "    description: str,\n",
    "    *,\n",
    "    examples: DataFrame,\n",
    "    questions: DataFrame,\n",
    "    generator,\n",
    "    generator_options: dict,\n",
    "):\n",
    "    n = len(questions)\n",
    "\n",
    "    start_time = timer()\n",
    "\n",
    "    # Answer and evaluate each question\n",
    "    futures = [\n",
    "        executor.submit(process_mcq, generator, generator_options, mcq)\n",
    "        for _, mcq in questions.iterrows()\n",
    "    ]\n",
    "\n",
    "    # Collect results\n",
    "    correct, errors = 0, 0\n",
    "    for future in tqdm(as_completed(futures), total=n, desc=description):\n",
    "        evaluation = future.result()\n",
    "        if evaluation is Evaluation.CORRECT:\n",
    "            correct += 1\n",
    "        elif evaluation is Evaluation.ERROR:\n",
    "            errors += 1\n",
    "\n",
    "    duration = timer() - start_time\n",
    "\n",
    "    # Derive metrics\n",
    "    metrics = {\n",
    "        \"n\": n,\n",
    "        \"correct\": correct,\n",
    "        \"errors\": errors,\n",
    "        \"accuracy\": correct / (n - errors),\n",
    "        \"error_rate\": errors / n,\n",
    "        \"rps\": 1000000000 * n / duration,\n",
    "    }\n",
    "\n",
    "    return metrics"
   ]
  },
  {
   "cell_type": "markdown",
   "id": "1725062b-af28-465e-9e63-ed811d778d04",
   "metadata": {},
   "source": [
    "### Verify Stable Benchmark Results\n",
    "\n",
    "Let's make sure our benchmark process produces consistent results when run against the same inputs."
   ]
  },
  {
   "cell_type": "code",
   "execution_count": 8,
   "id": "ccc163e0-0718-4d08-b107-08424c406df3",
   "metadata": {},
   "outputs": [
    {
     "data": {
      "text/plain": [
       "<Axes: xlabel='answer'>"
      ]
     },
     "execution_count": 8,
     "metadata": {},
     "output_type": "execute_result"
    },
    {
     "data": {
      "image/png": "[encoded data removed]",
      "text/plain": [
       "<Figure size 640x480 with 1 Axes>"
      ]
     },
     "metadata": {},
     "output_type": "display_data"
    }
   ],
   "source": [
    "# Sample questions\n",
    "selected_questions = questions.sample(n=16)\n",
    "\n",
    "# Debias answer distribution\n",
    "selected_questions = lmb.datasets.mmlu.normalize_question_answers(selected_questions)\n",
    "\n",
    "# Plot answer distribution\n",
    "selected_questions.answer.value_counts().plot.bar()"
   ]
  },
  {
   "cell_type": "code",
   "execution_count": 9,
   "id": "fafbe10b-2249-435a-950c-d716b4ab8fa1",
   "metadata": {
    "scrolled": true
   },
   "outputs": [
    {
     "name": "stdout",
     "output_type": "stream",
     "text": [
      "You are a robot that only outputs JSON. You reply in JSON format with the field 'answer'. For example, the following are multiple choice questions about elementary mathematics.\n",
      "\n",
      "Example Question: A store sells 107 different colors of paint. They have 25 cans of each color in storage. The number of cans of paint the store has in storage can be found using the expression below. 107 × 25. How many cans of paint does the store have in storage?\n",
      "\n",
      "A) 2,675\n",
      "B) 749\n",
      "C) 2,945\n",
      "D) 4,250\n",
      "\n",
      "Example Answer: {\"answer\": \"A\"}\n",
      "\n",
      "Example Question: A total of 30 players will play basketball at a park. There will be exactly 5 players on each team. Which statement correctly explains how to find the number of teams needed?\n",
      "\n",
      "A) Add 5 to 30 to find 35 teams.\n",
      "B) Divide 30 by 5 to find 6 teams.\n",
      "C) Multiply 30 and 5 to find 150 teams.\n",
      "D) Subtract 5 from 30 to find 25 teams.\n",
      "\n",
      "Example Answer: {\"answer\": \"B\"}\n",
      "\n",
      "Example Question: Olivia used the rule \"Add 11\" to create the number pattern shown below. 10, 21, 32, 43, 54 Which statement about the number pattern is true?\n",
      "\n",
      "A) The 10th number in the pattern will be an even number.\n",
      "B) The next two numbers in the pattern will be an even number then an odd number.\n",
      "C) The number pattern will never have two even numbers next to each other.\n",
      "D) If the number pattern started with an odd number then the pattern would have only odd numbers in it.\n",
      "\n",
      "Example Answer: {\"answer\": \"C\"}\n",
      "\n",
      "Example Question: The population of the city where Michelle was born is 145,826. What is the value of the 5 in the number 145,826?\n",
      "\n",
      "A) 5 ones\n",
      "B) 5 hundreds\n",
      "C) 5 tens\n",
      "D) 5 thousands\n",
      "\n",
      "Example Answer: {\"answer\": \"D\"}\n",
      "\n",
      "Given the examples above, your task is to answer the following question.\n",
      "\n",
      "Question: Last year Carl baked a total of 18 pies. He baked 6 pies for his family and p pies for each of the 4 school fund-raisers. Which number sentence can be used to find the number of pies, p, Carl baked for each of the school fund-raisers?\n",
      "\n",
      "A) 6+4 × p = 18\n",
      "B) 18 – 6 × p = 4\n",
      "C) 4+6 × p = 18\n",
      "D) 6 × p – 18 = 4\n",
      "\n",
      "Answer: \n"
     ]
    }
   ],
   "source": [
    "# Print example prompt\n",
    "print(lmb.datasets.mmlu.generate_prompt(examples, selected_questions.iloc[0]))"
   ]
  },
  {
   "cell_type": "code",
   "execution_count": 10,
   "id": "e0c1ff00-a43e-41d1-9c89-6e6642f09620",
   "metadata": {},
   "outputs": [
    {
     "name": "stderr",
     "output_type": "stream",
     "text": [
      "epoch 0: 100%|████████████████████████████████████████████████████████████████████████████████████████████████████████████████████████████████████████████████| 16/16 [00:09<00:00,  1.66it/s]\n",
      "epoch 1: 100%|████████████████████████████████████████████████████████████████████████████████████████████████████████████████████████████████████████████████| 16/16 [00:09<00:00,  1.73it/s]\n",
      "epoch 2: 100%|████████████████████████████████████████████████████████████████████████████████████████████████████████████████████████████████████████████████| 16/16 [00:09<00:00,  1.69it/s]\n"
     ]
    },
    {
     "data": {
      "text/html": [
       "<pre style=\"white-space:pre;overflow-x:auto;line-height:normal;font-family:Menlo,'DejaVu Sans Mono',consolas,'Courier New',monospace\">                                                                      \n",
       " <span style=\"font-weight: bold\"> n  </span> <span style=\"font-weight: bold\"> correct </span> <span style=\"font-weight: bold\"> errors </span> <span style=\"font-weight: bold\"> accuracy </span> <span style=\"font-weight: bold\"> error_rate </span> <span style=\"font-weight: bold\"> rps                </span> \n",
       " ──────────────────────────────────────────────────────────────────── \n",
       "  16   8         0        0.5        0.0          1.6551488744370335  \n",
       "  16   7         0        0.4375     0.0          1.7293265506116815  \n",
       "  16   7         0        0.4375     0.0          1.6869807433206268  \n",
       "                                                                      \n",
       "</pre>\n"
      ],
      "text/plain": [
       "                                                                      \n",
       " \u001b[1m \u001b[0m\u001b[1mn \u001b[0m\u001b[1m \u001b[0m \u001b[1m \u001b[0m\u001b[1mcorrect\u001b[0m\u001b[1m \u001b[0m \u001b[1m \u001b[0m\u001b[1merrors\u001b[0m\u001b[1m \u001b[0m \u001b[1m \u001b[0m\u001b[1maccuracy\u001b[0m\u001b[1m \u001b[0m \u001b[1m \u001b[0m\u001b[1merror_rate\u001b[0m\u001b[1m \u001b[0m \u001b[1m \u001b[0m\u001b[1mrps               \u001b[0m\u001b[1m \u001b[0m \n",
       " ──────────────────────────────────────────────────────────────────── \n",
       "  16   8         0        0.5        0.0          1.6551488744370335  \n",
       "  16   7         0        0.4375     0.0          1.7293265506116815  \n",
       "  16   7         0        0.4375     0.0          1.6869807433206268  \n",
       "                                                                      \n"
      ]
     },
     "metadata": {},
     "output_type": "display_data"
    },
    {
     "name": "stdout",
     "output_type": "stream",
     "text": [
      "CPU times: user 223 ms, sys: 13.1 ms, total: 236 ms\n",
      "Wall time: 28.4 s\n"
     ]
    }
   ],
   "source": [
    "%%time\n",
    "\n",
    "rows = []\n",
    "for i in range(3):\n",
    "    # Run benchmark\n",
    "    metrics = benchmark(\n",
    "        f\"epoch {i}\",\n",
    "        examples=examples,\n",
    "        questions=selected_questions,\n",
    "        generator=generator,\n",
    "        generator_options=llm_options,\n",
    "    )\n",
    "\n",
    "    rows.append(metrics)\n",
    "\n",
    "print_table(rows)"
   ]
  },
  {
   "cell_type": "markdown",
   "id": "87c39e34-9333-4798-b059-b55748fbcade",
   "metadata": {},
   "source": [
    "## Estimate Positional Bias"
   ]
  },
  {
   "cell_type": "code",
   "execution_count": 11,
   "id": "af877f4d-2cc3-40b3-8a92-3ad28e5e0a63",
   "metadata": {},
   "outputs": [
    {
     "name": "stderr",
     "output_type": "stream",
     "text": [
      "uniform: 100%|██████████████████████████████████████████████████████████████████████████████████████████████████████████████████████████████████████████████| 160/160 [01:41<00:00,  1.57it/s]\n",
      "D: 100%|████████████████████████████████████████████████████████████████████████████████████████████████████████████████████████████████████████████████████| 160/160 [01:40<00:00,  1.60it/s]\n",
      "C: 100%|████████████████████████████████████████████████████████████████████████████████████████████████████████████████████████████████████████████████████| 160/160 [01:41<00:00,  1.58it/s]\n",
      "A: 100%|████████████████████████████████████████████████████████████████████████████████████████████████████████████████████████████████████████████████████| 160/160 [01:41<00:00,  1.58it/s]\n",
      "B: 100%|████████████████████████████████████████████████████████████████████████████████████████████████████████████████████████████████████████████████████| 160/160 [01:38<00:00,  1.62it/s]\n",
      "uniform: 100%|██████████████████████████████████████████████████████████████████████████████████████████████████████████████████████████████████████████████| 160/160 [01:38<00:00,  1.62it/s]\n",
      "D: 100%|████████████████████████████████████████████████████████████████████████████████████████████████████████████████████████████████████████████████████| 160/160 [01:38<00:00,  1.63it/s]\n",
      "C: 100%|████████████████████████████████████████████████████████████████████████████████████████████████████████████████████████████████████████████████████| 160/160 [01:39<00:00,  1.61it/s]\n",
      "A: 100%|████████████████████████████████████████████████████████████████████████████████████████████████████████████████████████████████████████████████████| 160/160 [01:39<00:00,  1.61it/s]\n",
      "B: 100%|████████████████████████████████████████████████████████████████████████████████████████████████████████████████████████████████████████████████████| 160/160 [01:39<00:00,  1.61it/s]\n",
      "uniform: 100%|██████████████████████████████████████████████████████████████████████████████████████████████████████████████████████████████████████████████| 160/160 [01:42<00:00,  1.57it/s]\n",
      "D: 100%|████████████████████████████████████████████████████████████████████████████████████████████████████████████████████████████████████████████████████| 160/160 [01:42<00:00,  1.56it/s]\n",
      "C: 100%|████████████████████████████████████████████████████████████████████████████████████████████████████████████████████████████████████████████████████| 160/160 [01:40<00:00,  1.60it/s]\n",
      "A: 100%|████████████████████████████████████████████████████████████████████████████████████████████████████████████████████████████████████████████████████| 160/160 [01:41<00:00,  1.57it/s]\n",
      "B: 100%|████████████████████████████████████████████████████████████████████████████████████████████████████████████████████████████████████████████████████| 160/160 [01:41<00:00,  1.58it/s]\n",
      "uniform: 100%|██████████████████████████████████████████████████████████████████████████████████████████████████████████████████████████████████████████████| 160/160 [01:44<00:00,  1.53it/s]\n",
      "D: 100%|████████████████████████████████████████████████████████████████████████████████████████████████████████████████████████████████████████████████████| 160/160 [01:43<00:00,  1.54it/s]\n",
      "C: 100%|████████████████████████████████████████████████████████████████████████████████████████████████████████████████████████████████████████████████████| 160/160 [01:43<00:00,  1.55it/s]\n",
      "A: 100%|████████████████████████████████████████████████████████████████████████████████████████████████████████████████████████████████████████████████████| 160/160 [01:45<00:00,  1.52it/s]\n",
      "B: 100%|████████████████████████████████████████████████████████████████████████████████████████████████████████████████████████████████████████████████████| 160/160 [01:43<00:00,  1.54it/s]\n",
      "uniform: 100%|██████████████████████████████████████████████████████████████████████████████████████████████████████████████████████████████████████████████| 160/160 [01:40<00:00,  1.59it/s]\n",
      "D: 100%|████████████████████████████████████████████████████████████████████████████████████████████████████████████████████████████████████████████████████| 160/160 [01:40<00:00,  1.58it/s]\n",
      "C: 100%|████████████████████████████████████████████████████████████████████████████████████████████████████████████████████████████████████████████████████| 160/160 [01:42<00:00,  1.56it/s]\n",
      "A: 100%|████████████████████████████████████████████████████████████████████████████████████████████████████████████████████████████████████████████████████| 160/160 [01:41<00:00,  1.57it/s]\n",
      "B: 100%|████████████████████████████████████████████████████████████████████████████████████████████████████████████████████████████████████████████████████| 160/160 [01:41<00:00,  1.57it/s]\n",
      "uniform: 100%|██████████████████████████████████████████████████████████████████████████████████████████████████████████████████████████████████████████████| 160/160 [01:42<00:00,  1.56it/s]\n",
      "D: 100%|████████████████████████████████████████████████████████████████████████████████████████████████████████████████████████████████████████████████████| 160/160 [01:40<00:00,  1.60it/s]\n",
      "C: 100%|████████████████████████████████████████████████████████████████████████████████████████████████████████████████████████████████████████████████████| 160/160 [01:42<00:00,  1.56it/s]\n",
      "A: 100%|████████████████████████████████████████████████████████████████████████████████████████████████████████████████████████████████████████████████████| 160/160 [01:43<00:00,  1.54it/s]\n",
      "B: 100%|████████████████████████████████████████████████████████████████████████████████████████████████████████████████████████████████████████████████████| 160/160 [01:43<00:00,  1.54it/s]\n",
      "uniform: 100%|██████████████████████████████████████████████████████████████████████████████████████████████████████████████████████████████████████████████| 160/160 [01:40<00:00,  1.59it/s]\n",
      "D: 100%|████████████████████████████████████████████████████████████████████████████████████████████████████████████████████████████████████████████████████| 160/160 [01:42<00:00,  1.56it/s]\n",
      "C: 100%|████████████████████████████████████████████████████████████████████████████████████████████████████████████████████████████████████████████████████| 160/160 [01:40<00:00,  1.59it/s]\n",
      "A: 100%|████████████████████████████████████████████████████████████████████████████████████████████████████████████████████████████████████████████████████| 160/160 [01:44<00:00,  1.53it/s]\n",
      "B: 100%|████████████████████████████████████████████████████████████████████████████████████████████████████████████████████████████████████████████████████| 160/160 [01:41<00:00,  1.58it/s]\n",
      "uniform: 100%|██████████████████████████████████████████████████████████████████████████████████████████████████████████████████████████████████████████████| 160/160 [01:44<00:00,  1.54it/s]\n",
      "D: 100%|████████████████████████████████████████████████████████████████████████████████████████████████████████████████████████████████████████████████████| 160/160 [01:42<00:00,  1.56it/s]\n",
      "C: 100%|████████████████████████████████████████████████████████████████████████████████████████████████████████████████████████████████████████████████████| 160/160 [01:43<00:00,  1.55it/s]\n",
      "A: 100%|████████████████████████████████████████████████████████████████████████████████████████████████████████████████████████████████████████████████████| 160/160 [01:44<00:00,  1.52it/s]\n",
      "B: 100%|████████████████████████████████████████████████████████████████████████████████████████████████████████████████████████████████████████████████████| 160/160 [01:42<00:00,  1.56it/s]\n",
      "uniform: 100%|██████████████████████████████████████████████████████████████████████████████████████████████████████████████████████████████████████████████| 160/160 [01:46<00:00,  1.50it/s]\n",
      "D: 100%|████████████████████████████████████████████████████████████████████████████████████████████████████████████████████████████████████████████████████| 160/160 [01:47<00:00,  1.49it/s]\n",
      "C: 100%|████████████████████████████████████████████████████████████████████████████████████████████████████████████████████████████████████████████████████| 160/160 [01:48<00:00,  1.48it/s]\n",
      "A: 100%|████████████████████████████████████████████████████████████████████████████████████████████████████████████████████████████████████████████████████| 160/160 [01:47<00:00,  1.49it/s]\n",
      "B: 100%|████████████████████████████████████████████████████████████████████████████████████████████████████████████████████████████████████████████████████| 160/160 [01:46<00:00,  1.50it/s]\n",
      "uniform: 100%|██████████████████████████████████████████████████████████████████████████████████████████████████████████████████████████████████████████████| 160/160 [01:38<00:00,  1.62it/s]\n",
      "D: 100%|████████████████████████████████████████████████████████████████████████████████████████████████████████████████████████████████████████████████████| 160/160 [01:38<00:00,  1.63it/s]\n",
      "C: 100%|████████████████████████████████████████████████████████████████████████████████████████████████████████████████████████████████████████████████████| 160/160 [01:37<00:00,  1.64it/s]\n",
      "A: 100%|████████████████████████████████████████████████████████████████████████████████████████████████████████████████████████████████████████████████████| 160/160 [01:38<00:00,  1.62it/s]\n",
      "B: 100%|████████████████████████████████████████████████████████████████████████████████████████████████████████████████████████████████████████████████████| 160/160 [01:38<00:00,  1.63it/s]"
     ]
    },
    {
     "name": "stdout",
     "output_type": "stream",
     "text": [
      "CPU times: user 25.8 s, sys: 1.72 s, total: 27.5 s\n",
      "Wall time: 1h 25min 3s\n"
     ]
    },
    {
     "name": "stderr",
     "output_type": "stream",
     "text": [
      "\n"
     ]
    }
   ],
   "source": [
    "%%time\n",
    "\n",
    "# Repeat over multiple iterations\n",
    "rows = []\n",
    "for _ in range(n_epochs):\n",
    "    # Sample questions\n",
    "    selected_questions = questions.sample(n=n_questions)\n",
    "\n",
    "    # Debias answer distribution\n",
    "    selected_questions = lmb.datasets.mmlu.normalize_question_answers(\n",
    "        selected_questions\n",
    "    )\n",
    "\n",
    "    # Initialize metrics\n",
    "    metrics = {}\n",
    "\n",
    "    # Record performance w/ original data\n",
    "    metrics[\"uniform\"] = benchmark(\n",
    "        \"uniform\",\n",
    "        examples=examples,\n",
    "        questions=selected_questions,\n",
    "        generator=generator,\n",
    "        generator_options=llm_options,\n",
    "    )\n",
    "\n",
    "    # Record performance w/ answers shifted to each position\n",
    "    for option in OPTIONS:\n",
    "        # Swap answers to selected option\n",
    "        q = lmb.datasets.mmlu.swap_options(selected_questions, option)\n",
    "\n",
    "        metrics[option] = benchmark(\n",
    "            option,\n",
    "            examples=examples,\n",
    "            questions=q,\n",
    "            generator=generator,\n",
    "            generator_options=llm_options,\n",
    "        )\n",
    "\n",
    "    rows.append(metrics)"
   ]
  },
  {
   "cell_type": "code",
   "execution_count": 12,
   "id": "c7cf71dd-01e1-42e7-ab66-798960c4b2e4",
   "metadata": {
    "jupyter": {
     "source_hidden": true
    }
   },
   "outputs": [
    {
     "data": {
      "text/html": [
       "<pre style=\"white-space:pre;overflow-x:auto;line-height:normal;font-family:Menlo,'DejaVu Sans Mono',consolas,'Courier New',monospace\">                                          \n",
       " <span style=\"font-weight: bold\"> uniform </span> <span style=\"font-weight: bold\"> A     </span> <span style=\"font-weight: bold\"> B    </span> <span style=\"font-weight: bold\"> C     </span> <span style=\"font-weight: bold\"> D     </span> \n",
       " ──────────────────────────────────────── \n",
       "  0.56      <span style=\"color: #000000; text-decoration-color: #000000\">-0.04</span>   <span style=\"color: #000000; text-decoration-color: #000000\">0.04</span>   <span style=\"color: #000000; text-decoration-color: #000000\">0.04</span>    <span style=\"color: #800000; text-decoration-color: #800000\">-0.14</span>  \n",
       "  0.56      <span style=\"color: #000000; text-decoration-color: #000000\">0.02</span>    <span style=\"color: #000000; text-decoration-color: #000000\">0.04</span>   <span style=\"color: #000000; text-decoration-color: #000000\">0.04</span>    <span style=\"color: #000000; text-decoration-color: #000000\">-0.04</span>  \n",
       "  0.54      <span style=\"color: #008000; text-decoration-color: #008000\">0.06</span>    <span style=\"color: #008000; text-decoration-color: #008000\">0.06</span>   <span style=\"color: #000000; text-decoration-color: #000000\">0.01</span>    <span style=\"color: #800000; text-decoration-color: #800000\">-0.13</span>  \n",
       "  0.57      <span style=\"color: #000000; text-decoration-color: #000000\">0.02</span>    <span style=\"color: #000000; text-decoration-color: #000000\">0.04</span>   <span style=\"color: #000000; text-decoration-color: #000000\">-0.01</span>   <span style=\"color: #800000; text-decoration-color: #800000\">-0.12</span>  \n",
       "  0.53      <span style=\"color: #000000; text-decoration-color: #000000\">0.01</span>    <span style=\"color: #008000; text-decoration-color: #008000\">0.09</span>   <span style=\"color: #000000; text-decoration-color: #000000\">0.01</span>    <span style=\"color: #800000; text-decoration-color: #800000\">-0.05</span>  \n",
       "  0.55      <span style=\"color: #000000; text-decoration-color: #000000\">0.02</span>    <span style=\"color: #000000; text-decoration-color: #000000\">0.04</span>   <span style=\"color: #000000; text-decoration-color: #000000\">-0.01</span>   <span style=\"color: #800000; text-decoration-color: #800000\">-0.11</span>  \n",
       "  0.56      <span style=\"color: #000000; text-decoration-color: #000000\">0.01</span>    <span style=\"color: #008000; text-decoration-color: #008000\">0.08</span>   <span style=\"color: #000000; text-decoration-color: #000000\">0.02</span>    <span style=\"color: #800000; text-decoration-color: #800000\">-0.11</span>  \n",
       "  0.50      <span style=\"color: #008000; text-decoration-color: #008000\">0.06</span>    <span style=\"color: #008000; text-decoration-color: #008000\">0.12</span>   <span style=\"color: #008000; text-decoration-color: #008000\">0.07</span>    <span style=\"color: #000000; text-decoration-color: #000000\">-0.05</span>  \n",
       "  0.44      <span style=\"color: #008000; text-decoration-color: #008000\">0.07</span>    <span style=\"color: #008000; text-decoration-color: #008000\">0.09</span>   <span style=\"color: #000000; text-decoration-color: #000000\">0.03</span>    <span style=\"color: #800000; text-decoration-color: #800000\">-0.08</span>  \n",
       "  0.58      <span style=\"color: #000000; text-decoration-color: #000000\">-0.00</span>   <span style=\"color: #000000; text-decoration-color: #000000\">0.04</span>   <span style=\"color: #008000; text-decoration-color: #008000\">0.05</span>    <span style=\"color: #800000; text-decoration-color: #800000\">-0.08</span>  \n",
       "                                          \n",
       "</pre>\n"
      ],
      "text/plain": [
       "                                          \n",
       " \u001b[1m \u001b[0m\u001b[1muniform\u001b[0m\u001b[1m \u001b[0m \u001b[1m \u001b[0m\u001b[1mA    \u001b[0m\u001b[1m \u001b[0m \u001b[1m \u001b[0m\u001b[1mB   \u001b[0m\u001b[1m \u001b[0m \u001b[1m \u001b[0m\u001b[1mC    \u001b[0m\u001b[1m \u001b[0m \u001b[1m \u001b[0m\u001b[1mD    \u001b[0m\u001b[1m \u001b[0m \n",
       " ──────────────────────────────────────── \n",
       "  0.56      \u001b[30m-0.04\u001b[0m   \u001b[30m0.04\u001b[0m   \u001b[30m0.04\u001b[0m    \u001b[31m-0.14\u001b[0m  \n",
       "  0.56      \u001b[30m0.02\u001b[0m    \u001b[30m0.04\u001b[0m   \u001b[30m0.04\u001b[0m    \u001b[30m-0.04\u001b[0m  \n",
       "  0.54      \u001b[32m0.06\u001b[0m    \u001b[32m0.06\u001b[0m   \u001b[30m0.01\u001b[0m    \u001b[31m-0.13\u001b[0m  \n",
       "  0.57      \u001b[30m0.02\u001b[0m    \u001b[30m0.04\u001b[0m   \u001b[30m-0.01\u001b[0m   \u001b[31m-0.12\u001b[0m  \n",
       "  0.53      \u001b[30m0.01\u001b[0m    \u001b[32m0.09\u001b[0m   \u001b[30m0.01\u001b[0m    \u001b[31m-0.05\u001b[0m  \n",
       "  0.55      \u001b[30m0.02\u001b[0m    \u001b[30m0.04\u001b[0m   \u001b[30m-0.01\u001b[0m   \u001b[31m-0.11\u001b[0m  \n",
       "  0.56      \u001b[30m0.01\u001b[0m    \u001b[32m0.08\u001b[0m   \u001b[30m0.02\u001b[0m    \u001b[31m-0.11\u001b[0m  \n",
       "  0.50      \u001b[32m0.06\u001b[0m    \u001b[32m0.12\u001b[0m   \u001b[32m0.07\u001b[0m    \u001b[30m-0.05\u001b[0m  \n",
       "  0.44      \u001b[32m0.07\u001b[0m    \u001b[32m0.09\u001b[0m   \u001b[30m0.03\u001b[0m    \u001b[31m-0.08\u001b[0m  \n",
       "  0.58      \u001b[30m-0.00\u001b[0m   \u001b[30m0.04\u001b[0m   \u001b[32m0.05\u001b[0m    \u001b[31m-0.08\u001b[0m  \n",
       "                                          \n"
      ]
     },
     "metadata": {},
     "output_type": "display_data"
    }
   ],
   "source": [
    "table = Table(\"uniform\", \"A\", \"B\", \"C\", \"D\", box=rich.box.SIMPLE)\n",
    "for row in rows:\n",
    "    baseline = row[\"uniform\"][\"accuracy\"]\n",
    "    offsets = {k: row[k][\"accuracy\"] - baseline for k in OPTIONS}\n",
    "    colors = {option: \"black\" for option in OPTIONS}\n",
    "    colors |= {option: \"red\" for option in OPTIONS if offsets[option] <= -0.05}\n",
    "    colors |= {option: \"green\" for option in OPTIONS if offsets[option] >= 0.05}\n",
    "    table.add_row(\n",
    "        f\"{baseline:0.2f}\",\n",
    "        f\"[{colors['A']}]{offsets['A']:0.2f}[/{colors['A']}]\",\n",
    "        f\"[{colors['B']}]{offsets['B']:0.2f}[/{colors['B']}]\",\n",
    "        f\"[{colors['C']}]{offsets['C']:0.2f}[/{colors['C']}]\",\n",
    "        f\"[{colors['D']}]{offsets['D']:0.2f}[/{colors['D']}]\",\n",
    "    )\n",
    "\n",
    "rich.print(table)"
   ]
  },
  {
   "cell_type": "markdown",
   "id": "940a7c2e-c8f3-465b-b68e-8f78f88e9171",
   "metadata": {},
   "source": [
    "# Export Results"
   ]
  },
  {
   "cell_type": "code",
   "execution_count": 13,
   "id": "000a8cfc-cc6e-410f-8bec-264b152f5e51",
   "metadata": {},
   "outputs": [
    {
     "data": {
      "text/plain": [
       "6388"
      ]
     },
     "execution_count": 13,
     "metadata": {},
     "output_type": "execute_result"
    }
   ],
   "source": [
    "path = Path(\"results/demonstrate-bias-llama-160-10epochs-run1.json\")\n",
    "path.write_text(json.dumps(rows))"
   ]
  },
  {
   "cell_type": "code",
   "execution_count": null,
   "id": "8df4207d-7cf3-4eaf-9291-1fbfcc5729fc",
   "metadata": {},
   "outputs": [],
   "source": []
  },
  {
   "cell_type": "code",
   "execution_count": null,
   "id": "ce4e3f48-eb24-4c3a-a4bd-38341b4f7dd7",
   "metadata": {},
   "outputs": [],
   "source": []
  }
 ],
 "metadata": {
  "kernelspec": {
   "display_name": "Python 3 (ipykernel)",
   "language": "python",
   "name": "python3"
  },
  "language_info": {
   "codemirror_mode": {
    "name": "ipython",
    "version": 3
   },
   "file_extension": ".py",
   "mimetype": "text/x-python",
   "name": "python",
   "nbconvert_exporter": "python",
   "pygments_lexer": "ipython3",
   "version": "3.12.6"
  }
 },
 "nbformat": 4,
 "nbformat_minor": 5
}
