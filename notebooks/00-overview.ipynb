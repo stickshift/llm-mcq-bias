{
 "cells": [
  {
   "cell_type": "markdown",
   "id": "34045730-6901-497f-9164-4946a659b2da",
   "metadata": {},
   "source": [
    "# Exploring Effects of Order Dependency in LLMs\n",
    "\n",
    "While LLMs have demonstrated remarkable capabilities in understanding and generating text, researchers have found they also exhibit a number of unexpected behavioral patterns. The *order dependency problem* refers to LLMs' well-documented sensitivity to the order information is presented in a prompt. Making small changes to the order of tokens in an LLM's input sequence has been shown to generate large changes in the model's predicted outputs.\n",
    "\n",
    "One specific area where this has been thoroughly studied is in answering multiple choice questions (MCQs). Pezeshkpour and Hruschka (2023) and Zheng et al. (2024) showed that an LLMs' performance on MCQ tasks can be dramatically altered simply by changing the order of the choices for each question. This is particularly concerning given that MCQ tasks are widely used in benchmarks such as MMLU (Hendrycks et al. 2021).\n",
    "\n",
    "**TODO:** discuss implications and risks of order dependency problem\n",
    "\n",
    "**TODO:** highlight a sample of solutions\n",
    "\n",
    "**TODO:** roadmap the rest of the post"
   ]
  },
  {
   "cell_type": "markdown",
   "id": "18469ee3-56dc-4ced-914b-c0e4e8d42af0",
   "metadata": {},
   "source": [
    "# Roadmap\n",
    "\n",
    "* Dataset\n",
    "* Demonstrate positional bias\n",
    "* Improve positional bias\n",
    "* Discussion"
   ]
  },
  {
   "cell_type": "code",
   "execution_count": null,
   "id": "90f4f8db-c65b-4080-a99c-6f32c9103d8e",
   "metadata": {},
   "outputs": [],
   "source": []
  },
  {
   "cell_type": "code",
   "execution_count": null,
   "id": "3f38664f-e02c-4a0f-b0fe-fd9da7173792",
   "metadata": {},
   "outputs": [],
   "source": []
  },
  {
   "cell_type": "code",
   "execution_count": null,
   "id": "4a7afb94-5916-40fe-8c4c-414570fd1ba3",
   "metadata": {},
   "outputs": [],
   "source": []
  }
 ],
 "metadata": {
  "kernelspec": {
   "display_name": "Python 3 (ipykernel)",
   "language": "python",
   "name": "python3"
  },
  "language_info": {
   "codemirror_mode": {
    "name": "ipython",
    "version": 3
   },
   "file_extension": ".py",
   "mimetype": "text/x-python",
   "name": "python",
   "nbconvert_exporter": "python",
   "pygments_lexer": "ipython3",
   "version": "3.12.6"
  }
 },
 "nbformat": 4,
 "nbformat_minor": 5
}
