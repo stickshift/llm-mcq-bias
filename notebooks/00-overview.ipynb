{
 "cells": [
  {
   "cell_type": "markdown",
   "id": "34045730-6901-497f-9164-4946a659b2da",
   "metadata": {},
   "source": [
    "# Exploring Order Dependency in LLMs\n",
    "\n",
    "While LLMs have demonstrated remarkable capabilities in understanding and generating text, they also exhibit a number of unexpected behavioral patterns. Hallucinations are one well known example, but there are others that are less obvious and more subtle. Here, we'll explore the *order dependency problem*: a language models' sensitivity to the order of tokens in a sequence. Like hallucinations, order dependency is a significant obstacle to user acceptance and broader adoption of AI solutions. This is because order dependency leads to inconsistent model outputs, making the model unreliable and eroding users' trust. Would you trust an AI that based your medical treatment plan on the order your lab reports were received?\n",
    "\n",
    "One specific area where order dependency has been thoroughly studied is in answering multiple choice questions (MCQs). Multiple researchers have independently shown that LLMs generate different answers to MCQs when the choices are presented in alternative orders. While researchers agree order dependency is a problem, they disagree on the causes and possible solutions. For example, Pezeshkpour and Hruschka (2023) suggest the problem is caused by *positional bias* where the model prefers options in certain positions (first, last, etc). In contrast, Zheng et al. (2024) suggest the problem is caused by *token bias* where the model prefers options with specific labels (A, B, C, etc). Each of these authors propose different solutions based on their respective diagnoses. McIlroy-Young et al. (2024) offer a more general solution that has fewer assumptions and isn't tied to position vs token bias.\n",
    "\n",
    "Over the rest of this post, we'll explore different aspects of the order dependency problem. We'll start by running our own experiments to demonstrate order dependency in LLMs following a similar approach to Zheng et al. (2024). Next, we'll compare recommendations from Pezeshkpour and Hruschka (2023), Zheng et al. (2024), and McIlroy-Young et al. (2024). Finally, we'll briefly discuss a handful of key take aways from the process."
   ]
  },
  {
   "cell_type": "markdown",
   "id": "6015a8b0-b0a8-46d8-83e0-c596e76bbde2",
   "metadata": {
    "jp-MarkdownHeadingCollapsed": true
   },
   "source": [
    "# Setup"
   ]
  },
  {
   "cell_type": "code",
   "execution_count": 1,
   "id": "8a0eb5eb-6768-4290-8c95-4ec7c7ac4b47",
   "metadata": {},
   "outputs": [],
   "source": [
    "from functools import partial\n",
    "import json\n",
    "import logging\n",
    "import os\n",
    "from pathlib import Path\n",
    "from time import perf_counter_ns as timer\n",
    "\n",
    "from matplotlib import pyplot as plt\n",
    "import pandas as pd\n",
    "from pandas import DataFrame\n",
    "import seaborn as sns\n",
    "from tqdm import tqdm\n",
    "\n",
    "import llm_mcq_bias as lmb\n",
    "from llm_mcq_bias.datasets.mmlu import OPTIONS, Evaluation\n",
    "from llm_mcq_bias.models import Generator"
   ]
  },
  {
   "cell_type": "code",
   "execution_count": 2,
   "id": "e6069083-5368-45e2-9b30-d1532767458c",
   "metadata": {},
   "outputs": [],
   "source": [
    "# Switch to project root\n",
    "os.chdir(\"..\")\n",
    "\n",
    "# Configure logger\n",
    "logger = logging.getLogger(__name__)"
   ]
  },
  {
   "cell_type": "markdown",
   "id": "150c9b32-4a62-4853-83e6-33d3aa36138b",
   "metadata": {},
   "source": [
    "# Measuring Order Dependency"
   ]
  },
  {
   "cell_type": "markdown",
   "id": "ecebbb81-9ccc-488d-a206-52383635f729",
   "metadata": {},
   "source": [
    "Our first goal is to demonstrate order dependency in an MCQ setting for ourselves. We'll follow a similar process to Zheng et al. (2024) scaled down to fit into a more limited budget."
   ]
  },
  {
   "cell_type": "markdown",
   "id": "da697a8f-f0fd-4160-8aa3-7936148f203b",
   "metadata": {},
   "source": [
    "## MMLU Dataset"
   ]
  },
  {
   "cell_type": "markdown",
   "id": "19bff713-6a93-4c06-a08d-794decfdfb25",
   "metadata": {},
   "source": [
    "We'll start by downloading the Massive Multitask Language Understanding (MMLU) benchmark dataset from <https://github.com/hendrycks/test>. MMLU contains 14,042 MCQs from 57 categories. Each question has 4 options A, B, C, and D and one correct answer. In addition, each category has 5 example questions designed for few-shot experiments."
   ]
  },
  {
   "cell_type": "code",
   "execution_count": 3,
   "id": "df900f6b-8203-4f9f-8c53-fa0354cf0a10",
   "metadata": {},
   "outputs": [
    {
     "name": "stdout",
     "output_type": "stream",
     "text": [
      "Downloaded datasets .build/datasets/mmlu\n",
      "\n"
     ]
    }
   ],
   "source": [
    "!make datasets"
   ]
  },
  {
   "cell_type": "code",
   "execution_count": 4,
   "id": "8dd446f2-12c3-453f-8fbb-1afead3f851c",
   "metadata": {},
   "outputs": [],
   "source": [
    "dataset_path = Path(\".build\") / \"datasets\" / \"mmlu\"\n",
    "\n",
    "# Load example questions\n",
    "examples = lmb.datasets.mmlu.load_dataset(dataset_path, segment=\"dev\")\n",
    "\n",
    "# Load test questions\n",
    "questions = lmb.datasets.mmlu.load_dataset(dataset_path, segment=\"test\")"
   ]
  },
  {
   "cell_type": "code",
   "execution_count": 5,
   "id": "9a89a085-aaca-484e-9e97-34775b664e62",
   "metadata": {},
   "outputs": [
    {
     "data": {
      "text/html": [
       "<div>\n",
       "<style scoped>\n",
       "    .dataframe tbody tr th:only-of-type {\n",
       "        vertical-align: middle;\n",
       "    }\n",
       "\n",
       "    .dataframe tbody tr th {\n",
       "        vertical-align: top;\n",
       "    }\n",
       "\n",
       "    .dataframe thead th {\n",
       "        text-align: right;\n",
       "    }\n",
       "</style>\n",
       "<table border=\"1\" class=\"dataframe\">\n",
       "  <thead>\n",
       "    <tr style=\"text-align: right;\">\n",
       "      <th></th>\n",
       "      <th>question</th>\n",
       "      <th>A</th>\n",
       "      <th>B</th>\n",
       "      <th>C</th>\n",
       "      <th>D</th>\n",
       "      <th>answer</th>\n",
       "      <th>category</th>\n",
       "    </tr>\n",
       "  </thead>\n",
       "  <tbody>\n",
       "    <tr>\n",
       "      <th>8808</th>\n",
       "      <td>For which of these two scenarios does the main...</td>\n",
       "      <td>Wrong, Wrong</td>\n",
       "      <td>Wrong, Not wrong</td>\n",
       "      <td>Not wrong, Wrong</td>\n",
       "      <td>Not wrong, Not wrong</td>\n",
       "      <td>C</td>\n",
       "      <td>moral scenarios</td>\n",
       "    </tr>\n",
       "    <tr>\n",
       "      <th>11781</th>\n",
       "      <td>A consumer from State A filed a $100,000 produ...</td>\n",
       "      <td>The court does not have subject-matter jurisdi...</td>\n",
       "      <td>The manufacturer failed to obtain the court's ...</td>\n",
       "      <td>The manufacturer's failure to follow the desig...</td>\n",
       "      <td>The manufacturer's third-party complaint faile...</td>\n",
       "      <td>D</td>\n",
       "      <td>professional law</td>\n",
       "    </tr>\n",
       "    <tr>\n",
       "      <th>6925</th>\n",
       "      <td>Statement 1| ImageNet has images of various re...</td>\n",
       "      <td>True, True</td>\n",
       "      <td>False, False</td>\n",
       "      <td>True, False</td>\n",
       "      <td>False, True</td>\n",
       "      <td>C</td>\n",
       "      <td>machine learning</td>\n",
       "    </tr>\n",
       "  </tbody>\n",
       "</table>\n",
       "</div>"
      ],
      "text/plain": [
       "                                                question  \\\n",
       "8808   For which of these two scenarios does the main...   \n",
       "11781  A consumer from State A filed a $100,000 produ...   \n",
       "6925   Statement 1| ImageNet has images of various re...   \n",
       "\n",
       "                                                       A  \\\n",
       "8808                                        Wrong, Wrong   \n",
       "11781  The court does not have subject-matter jurisdi...   \n",
       "6925                                          True, True   \n",
       "\n",
       "                                                       B  \\\n",
       "8808                                    Wrong, Not wrong   \n",
       "11781  The manufacturer failed to obtain the court's ...   \n",
       "6925                                        False, False   \n",
       "\n",
       "                                                       C  \\\n",
       "8808                                    Not wrong, Wrong   \n",
       "11781  The manufacturer's failure to follow the desig...   \n",
       "6925                                         True, False   \n",
       "\n",
       "                                                       D answer  \\\n",
       "8808                                Not wrong, Not wrong      C   \n",
       "11781  The manufacturer's third-party complaint faile...      D   \n",
       "6925                                         False, True      C   \n",
       "\n",
       "               category  \n",
       "8808    moral scenarios  \n",
       "11781  professional law  \n",
       "6925   machine learning  "
      ]
     },
     "execution_count": 5,
     "metadata": {},
     "output_type": "execute_result"
    }
   ],
   "source": [
    "# Demo random sample of questions\n",
    "selected_questions = questions.sample(n=3)\n",
    "selected_questions"
   ]
  },
  {
   "cell_type": "markdown",
   "id": "864e57f5-9986-4094-85b4-15f7f5a49fe5",
   "metadata": {},
   "source": [
    "## Prompting"
   ]
  },
  {
   "cell_type": "markdown",
   "id": "be44de52-8366-42fb-87b0-f6702ae3af2b",
   "metadata": {},
   "source": [
    "We combine each question with the relevant examples to generate few-shot prompts. Our prompt template is specifically designed to generate valid answers in machine-readable JSON format. Recommended by [Meta AI's prompting guide](https://www.llama.com/docs/how-to-guides/prompting#limiting-extraneous-tokens), this technique allows us to parse the answer directly from the model output instead of searching through the model's internal logits for \"A\", \"B\", \"C\", \"D\" tokens. While this is a deviation from Hendrycks et al. (2021) and Zheng et al. (2024), parsing the answers from the model outputs is simpler and generalizes to models where the internal logits are not exposed."
   ]
  },
  {
   "cell_type": "code",
   "execution_count": 6,
   "id": "d92f0126-753b-4e56-9c3d-4a06b2eff0b1",
   "metadata": {},
   "outputs": [
    {
     "name": "stdout",
     "output_type": "stream",
     "text": [
      "You are a robot that only outputs JSON. You reply in JSON format with the field 'answer'. For example, the following are multiple choice questions about moral scenarios.\n",
      "\n",
      "Example Question: For which of these two scenarios does the main character (who uses I/me/my) do something clearly morally wrong, according to ordinary moral standards in the US as of 2020? Scenario 1 | During the house's demolition, I pushed him into a wall. Scenario 2 | When I choose a babysitter for my twin nieces, I don't care about her racial background.\n",
      "\n",
      "A) Wrong, Wrong\n",
      "B) Wrong, Not wrong\n",
      "C) Not wrong, Wrong\n",
      "D) Not wrong, Not wrong\n",
      "\n",
      "Example Answer: {\"answer\": \"B\"}\n",
      "\n",
      "Example Question: For which of these two scenarios does the main character (who uses I/me/my) do something clearly morally wrong, according to ordinary moral standards in the US as of 2020? Scenario 1 | I really loved my newborn baby boy. Scenario 2 | The new girl is embarrassed to live in a trailer park, so I invite the class to her house.\n",
      "\n",
      "A) Wrong, Wrong\n",
      "B) Wrong, Not wrong\n",
      "C) Not wrong, Wrong\n",
      "D) Not wrong, Not wrong\n",
      "\n",
      "Example Answer: {\"answer\": \"C\"}\n",
      "\n",
      "Given the examples above, your task is to answer the following question.\n",
      "\n",
      "Question: For which of these two scenarios does the main character (who uses I/me/my) do something clearly morally wrong, according to ordinary moral standards in the US as of 2020? Scenario 1 | My terrified little brother swears there's a monster in his closet, so I tell him he's wrong. Scenario 2 | I saw her put the drinks in the purse before checking out.\n",
      "\n",
      "A) Wrong, Wrong\n",
      "B) Wrong, Not wrong\n",
      "C) Not wrong, Wrong\n",
      "D) Not wrong, Not wrong\n",
      "\n",
      "Answer: \n"
     ]
    }
   ],
   "source": [
    "# Demo few-shot prompt\n",
    "prompt = lmb.datasets.mmlu.generate_prompt(examples, selected_questions.iloc[0], n_shots=2)\n",
    "print(prompt)"
   ]
  },
  {
   "cell_type": "markdown",
   "id": "32eaaa76-483b-432f-b61d-ab4e171333ad",
   "metadata": {},
   "source": [
    "## Debiasing Examples"
   ]
  },
  {
   "cell_type": "markdown",
   "id": "021ad8a7-0605-413a-a840-2852b7b3063a",
   "metadata": {},
   "source": [
    "Since our eventual goal is to measure the models' internal bias by manipulating the order of the answer choices, we need to avoid giving the model a reason to prefer one choice over another. However, the answers to the example questions in each MMLU category are not evenly distributed, which means the examples in our prompt may overly emphasize one option over another. To avoid this, we randomly select 4 examples from each category and evenly distribute the answers across options A, B, C, D. "
   ]
  },
  {
   "cell_type": "code",
   "execution_count": 7,
   "id": "caa8965f-9fc3-45d6-aa5a-ad4b4effd857",
   "metadata": {},
   "outputs": [],
   "source": [
    "# Randomly select a category\n",
    "category = examples.category.sample(n=1).iloc[0]\n",
    "\n",
    "# Measure initial answer distribution\n",
    "selected = examples[examples.category == category]\n",
    "\n",
    "distribution1 = DataFrame([\n",
    "    {\"option\": option, \"count\": selected[selected.answer == option].answer.count()}\n",
    "    for option in OPTIONS\n",
    "])"
   ]
  },
  {
   "cell_type": "code",
   "execution_count": 8,
   "id": "a8a24103-0ea8-43b4-b7d3-e7ac746ce680",
   "metadata": {},
   "outputs": [],
   "source": [
    "# Debias examples\n",
    "examples = lmb.datasets.mmlu.debias_example_answers(examples)"
   ]
  },
  {
   "cell_type": "code",
   "execution_count": 9,
   "id": "c4c5eb14-36a3-4c3a-83e7-9427ae94883b",
   "metadata": {},
   "outputs": [],
   "source": [
    "# Measure debiased answer distribution\n",
    "selected = examples[examples.category == category]\n",
    "\n",
    "distribution2 = DataFrame([\n",
    "    {\"option\": option, \"count\": selected[selected.answer == option].answer.count()}\n",
    "    for option in OPTIONS\n",
    "])"
   ]
  },
  {
   "cell_type": "code",
   "execution_count": 10,
   "id": "8359f45e-abf8-4cd4-beb6-25ff50a94a55",
   "metadata": {
    "jupyter": {
     "source_hidden": true
    }
   },
   "outputs": [
    {
     "data": {
      "text/plain": [
       "Text(0.5, 1.0, 'Debiased')"
      ]
     },
     "execution_count": 10,
     "metadata": {},
     "output_type": "execute_result"
    },
    {
     "data": {
      "image/png": "[encoded data removed]",
      "text/plain": [
       "<Figure size 1000x400 with 2 Axes>"
      ]
     },
     "metadata": {},
     "output_type": "display_data"
    }
   ],
   "source": [
    "fig, axs = plt.subplots(ncols=2, figsize=(10,4))\n",
    "\n",
    "sns.barplot(x=\"option\", y=\"count\", data=distribution1, ax=axs[0])\n",
    "axs[0].set_title(\"Initial\")\n",
    "\n",
    "sns.barplot(x=\"option\", y=\"count\", data=distribution2, ax=axs[1])\n",
    "axs[1].set_title(\"Debiased\")"
   ]
  },
  {
   "cell_type": "markdown",
   "id": "97fcdde9-f923-453d-8ccf-c1084c331040",
   "metadata": {},
   "source": [
    "## Models"
   ]
  },
  {
   "cell_type": "markdown",
   "id": "302f0e8f-c28e-4c21-8670-27f7cc3a85da",
   "metadata": {},
   "source": [
    "We ran the same experiment on 3 different models: Llama 3.2 3B, Gemma 2 9B, and GPT 4o Mini. The first two models are open source, available in both Hugging Face and Ollama platforms, and are small enough to run on a local development system with a single GPU. Llama and Gemma were chosen as examples of leading open source models in different sizes. To round out the lineup, we used Open AI's GPT 4o Mini model.\n",
    "\n",
    "We used the Ollama toolchain to run the open source models because we found it to be 2 to 3 times faster than Hugging Face's transformers library on our local development systems.\n",
    "\n",
    "In the following sections, we'll use the Llama 3.2 3B model to demonstrate the process."
   ]
  },
  {
   "cell_type": "code",
   "execution_count": 11,
   "id": "d704807a-8962-4f19-b267-437dc77620b8",
   "metadata": {},
   "outputs": [],
   "source": [
    "model = \"llama3.2:3b\"\n",
    "options = {\n",
    "    # Limit output tokens to avoid wasting time on invalid answers\n",
    "    \"num_predict\": 10,\n",
    "\n",
    "    # Disable sampling to generate consistent results using most likely tokens\n",
    "    \"top_k\": 1,\n",
    "}\n",
    "generator = partial(lmb.models.ollama, model=model, options=options)"
   ]
  },
  {
   "cell_type": "markdown",
   "id": "fae45556-b948-4a07-be8a-bac799039718",
   "metadata": {},
   "source": [
    "## Experiment Workflow"
   ]
  },
  {
   "cell_type": "markdown",
   "id": "eeb6daaf-9ee0-499a-9dd5-6d6a49c21215",
   "metadata": {},
   "source": [
    "We repeated the following steps over multiple runs to ensure the results are consistent. We collected 10 runs for Llama and Gemma models but were only able to collect 3 runs for GPT 4o Mini before running into rate limiting issues with Open AI's API.\n",
    "\n",
    "* Randomly select 160 questions\n",
    "* Debias answers\n",
    "* Measure model accuracy on uniformly distributed answers\n",
    "* Move all answers to option A and measure model accuracy\n",
    "* Move all answers to option B and measure model accuracy\n",
    "* Move all answers to option C and measure model accuracy\n",
    "* Move all answers to option D and measure model accuracy\n",
    "\n",
    "The following cells demonstrate the specific logic used in each of these steps w/ `n_questions` = 16. Appendix A includes links to snapshots of the actual experiment runs."
   ]
  },
  {
   "cell_type": "markdown",
   "id": "420f7ab0-7ce5-4c88-a2dc-57f38c5338d6",
   "metadata": {},
   "source": [
    "### Randomly Select Questions"
   ]
  },
  {
   "cell_type": "code",
   "execution_count": 12,
   "id": "398c15ed-b732-4115-9c46-0b9a0c666311",
   "metadata": {},
   "outputs": [],
   "source": [
    "# Number of questions to sample\n",
    "n_questions = 16\n",
    "\n",
    "# Sample questions\n",
    "selected_questions = questions.sample(n=n_questions)"
   ]
  },
  {
   "cell_type": "markdown",
   "id": "bc4ae660-613e-4100-849c-9a9d5cf36ba2",
   "metadata": {},
   "source": [
    "### Debias Answers"
   ]
  },
  {
   "cell_type": "code",
   "execution_count": 13,
   "id": "818f12c5-d1ab-46f7-99d0-1b7d23b3b003",
   "metadata": {},
   "outputs": [],
   "source": [
    "# Measure initial answer distribution\n",
    "distribution1 = DataFrame([\n",
    "    {\"option\": option, \"count\": selected_questions[selected_questions.answer == option].answer.count()}\n",
    "    for option in OPTIONS\n",
    "])\n",
    "\n",
    "# Debias answers\n",
    "selected_questions = lmb.datasets.mmlu.debias_question_answers(selected_questions)\n",
    "\n",
    "# Measure debiased answer distribution\n",
    "distribution2 = DataFrame([\n",
    "    {\"option\": option, \"count\": selected_questions[selected_questions.answer == option].answer.count()}\n",
    "    for option in OPTIONS\n",
    "])"
   ]
  },
  {
   "cell_type": "code",
   "execution_count": 14,
   "id": "59d83dd4-abe5-4d03-8ce4-555e9351f4de",
   "metadata": {
    "jupyter": {
     "source_hidden": true
    }
   },
   "outputs": [
    {
     "data": {
      "text/plain": [
       "Text(0.5, 1.0, 'Debiased')"
      ]
     },
     "execution_count": 14,
     "metadata": {},
     "output_type": "execute_result"
    },
    {
     "data": {
      "image/png": "[encoded data removed]",
      "text/plain": [
       "<Figure size 1000x400 with 2 Axes>"
      ]
     },
     "metadata": {},
     "output_type": "display_data"
    }
   ],
   "source": [
    "fig, axs = plt.subplots(ncols=2, figsize=(10,4))\n",
    "\n",
    "sns.barplot(x=\"option\", y=\"count\", data=distribution1, ax=axs[0])\n",
    "axs[0].set_title(\"Initial\")\n",
    "\n",
    "sns.barplot(x=\"option\", y=\"count\", data=distribution2, ax=axs[1])\n",
    "axs[1].set_title(\"Debiased\")"
   ]
  },
  {
   "cell_type": "markdown",
   "id": "92bd753f-a438-42af-a8dc-557f069a6fd5",
   "metadata": {},
   "source": [
    "### Measure Model Accuracy"
   ]
  },
  {
   "cell_type": "markdown",
   "id": "ea7ee1d4-c9b1-41f6-8e11-cfa659067691",
   "metadata": {},
   "source": [
    "The following benchmark function is used to record the accuracy for a given model on the specified set of questions. "
   ]
  },
  {
   "cell_type": "code",
   "execution_count": 15,
   "id": "15cf781e-52dc-4a39-aaf8-9e9c670f598f",
   "metadata": {},
   "outputs": [],
   "source": [
    "def benchmark(\n",
    "    description: str, \n",
    "    *, \n",
    "    examples: DataFrame, \n",
    "    questions: DataFrame, \n",
    "    generator: Generator,\n",
    "    golden_option: str | None = None,\n",
    "):\n",
    "    \"\"\"Measure performance of generator on questions.\"\"\"\n",
    "\n",
    "    # Move answers to golden_option if specified\n",
    "    if golden_option is not None:\n",
    "        questions = lmb.datasets.mmlu.swap_options(questions, golden_option)\n",
    "    \n",
    "    n = len(questions)\n",
    "    \n",
    "    start_time = timer()\n",
    "\n",
    "    # Answer and evaluate questions\n",
    "    correct, errors = 0, 0\n",
    "    for _, mcq in tqdm(questions.iterrows(), total=n, desc=description):\n",
    "\n",
    "        # Generate prompt\n",
    "        prompt = lmb.datasets.mmlu.generate_prompt(examples, mcq)\n",
    "\n",
    "        # Generate answer\n",
    "        answer = generator(prompt=prompt)\n",
    "\n",
    "        # Evaluate answer\n",
    "        evaluation = lmb.datasets.mmlu.evaluate_answer(mcq, answer)\n",
    "        if evaluation is Evaluation.CORRECT:\n",
    "            correct += 1\n",
    "        elif evaluation is Evaluation.ERROR:\n",
    "            errors += 1\n",
    "\n",
    "    duration = timer() - start_time\n",
    "\n",
    "    # Derive metrics\n",
    "    metrics = {\n",
    "        \"n\": n,\n",
    "        \"correct\": correct,\n",
    "        \"errors\": errors,\n",
    "        \"accuracy\": correct / (n - errors),\n",
    "        \"error_rate\": errors / n,\n",
    "        \"rps\": 1000000000 * n / duration,\n",
    "    }\n",
    "\n",
    "    return metrics"
   ]
  },
  {
   "cell_type": "markdown",
   "id": "f33da9e9-e020-4d22-92cc-4e51c323d275",
   "metadata": {},
   "source": [
    "Next, we initialize metrics dictionary to store results from each segment."
   ]
  },
  {
   "cell_type": "code",
   "execution_count": 16,
   "id": "50014df6-0dee-4a24-981a-a1e276de468f",
   "metadata": {},
   "outputs": [],
   "source": [
    "metrics = {}"
   ]
  },
  {
   "cell_type": "markdown",
   "id": "935b30e3-74ed-48c7-aad8-2ec3521840bb",
   "metadata": {},
   "source": [
    "### Uniformly Distributed Answers"
   ]
  },
  {
   "cell_type": "code",
   "execution_count": 17,
   "id": "29c876f4-5903-42cf-b08c-3963f17963cb",
   "metadata": {},
   "outputs": [
    {
     "name": "stderr",
     "output_type": "stream",
     "text": [
      "U: 100%|███████████████████████████████████████████████████████████████████████████████████████████████████████████████████████████████████████████████████| 16/16 [00:09<00:00,  1.62it/s]\n"
     ]
    }
   ],
   "source": [
    "# Measure performance on uniformly distributed answers\n",
    "metrics[\"U\"] = benchmark(\n",
    "    \"U\",\n",
    "    examples=examples,\n",
    "    questions=selected_questions,\n",
    "    generator=generator\n",
    ")"
   ]
  },
  {
   "cell_type": "markdown",
   "id": "2ab6a17a-13f3-4a6d-8830-1c0a3fc20045",
   "metadata": {},
   "source": [
    "### Option A"
   ]
  },
  {
   "cell_type": "code",
   "execution_count": 18,
   "id": "fef42a2c-e0ed-4452-9321-5742008b3bd5",
   "metadata": {},
   "outputs": [
    {
     "name": "stderr",
     "output_type": "stream",
     "text": [
      "A: 100%|███████████████████████████████████████████████████████████████████████████████████████████████████████████████████████████████████████████████████| 16/16 [00:09<00:00,  1.63it/s]\n"
     ]
    }
   ],
   "source": [
    "# Measure performance w/ answers shifted to A\n",
    "option = \"A\"\n",
    "metrics[option] = benchmark(\n",
    "    option,\n",
    "    examples=examples,\n",
    "    questions=selected_questions,\n",
    "    generator=generator,\n",
    "    golden_option=option,\n",
    ")"
   ]
  },
  {
   "cell_type": "markdown",
   "id": "9ed10b37-cc68-438e-8e1d-9c65dc1d544f",
   "metadata": {},
   "source": [
    "### Option B"
   ]
  },
  {
   "cell_type": "code",
   "execution_count": 19,
   "id": "af5f7515-4d8e-4b0f-99d5-498a1a8718f5",
   "metadata": {},
   "outputs": [
    {
     "name": "stderr",
     "output_type": "stream",
     "text": [
      "B: 100%|███████████████████████████████████████████████████████████████████████████████████████████████████████████████████████████████████████████████████| 16/16 [00:10<00:00,  1.59it/s]\n"
     ]
    }
   ],
   "source": [
    "# Measure performance w/ answers shifted to B\n",
    "option = \"B\"\n",
    "metrics[option] = benchmark(\n",
    "    option,\n",
    "    examples=examples,\n",
    "    questions=selected_questions,\n",
    "    generator=generator,\n",
    "    golden_option=option,\n",
    ")"
   ]
  },
  {
   "cell_type": "markdown",
   "id": "f540cf93-4c6e-4ca7-8782-54e2166ebae4",
   "metadata": {},
   "source": [
    "### Option C"
   ]
  },
  {
   "cell_type": "code",
   "execution_count": 20,
   "id": "2bfc8ef9-346e-42e7-9563-15e67859d563",
   "metadata": {},
   "outputs": [
    {
     "name": "stderr",
     "output_type": "stream",
     "text": [
      "C: 100%|███████████████████████████████████████████████████████████████████████████████████████████████████████████████████████████████████████████████████| 16/16 [00:10<00:00,  1.58it/s]\n"
     ]
    }
   ],
   "source": [
    "# Measure performance w/ answers shifted to C\n",
    "option = \"C\"\n",
    "metrics[option] = benchmark(\n",
    "    option,\n",
    "    examples=examples,\n",
    "    questions=selected_questions,\n",
    "    generator=generator,\n",
    "    golden_option=option,\n",
    ")"
   ]
  },
  {
   "cell_type": "markdown",
   "id": "09c60b0b-3933-4d77-82ee-ac47a3f59fd5",
   "metadata": {},
   "source": [
    "### Option D"
   ]
  },
  {
   "cell_type": "code",
   "execution_count": 21,
   "id": "cbd92826-78ee-4284-8466-622010ea2b23",
   "metadata": {},
   "outputs": [
    {
     "name": "stderr",
     "output_type": "stream",
     "text": [
      "D: 100%|███████████████████████████████████████████████████████████████████████████████████████████████████████████████████████████████████████████████████| 16/16 [00:10<00:00,  1.55it/s]\n"
     ]
    }
   ],
   "source": [
    "# Measure performance w/ answers shifted to D\n",
    "option = \"D\"\n",
    "metrics[option] = benchmark(\n",
    "    option,\n",
    "    examples=examples,\n",
    "    questions=selected_questions,\n",
    "    generator=generator,\n",
    "    golden_option=option,\n",
    ")"
   ]
  },
  {
   "cell_type": "markdown",
   "id": "73303535-5553-4b35-86a6-9a397a5e86ac",
   "metadata": {},
   "source": [
    "# Order Dependency Results"
   ]
  },
  {
   "cell_type": "markdown",
   "id": "6bdcc042-6532-4fe9-b7b6-2d3cf085de82",
   "metadata": {},
   "source": [
    "## Single Example Run (16 questions)"
   ]
  },
  {
   "cell_type": "markdown",
   "id": "455d3ffe-7ae3-409e-b983-c74dda247114",
   "metadata": {},
   "source": [
    "Next, we'll take a look at how the model's accuracy varied as we shifted the answers between different options."
   ]
  },
  {
   "cell_type": "code",
   "execution_count": 22,
   "id": "4da300fe-51f1-4d74-a520-961bf510073d",
   "metadata": {},
   "outputs": [],
   "source": [
    "# Prep results\n",
    "rows = []\n",
    "baseline = metrics[\"U\"][\"accuracy\"]\n",
    "for segment in [\"U\", \"A\", \"B\", \"C\", \"D\"]:\n",
    "    rows.append({\n",
    "        \"segment\": segment,\n",
    "        \"accuracy_delta\": metrics[segment][\"accuracy\"] - baseline,\n",
    "    })\n",
    "results = DataFrame(rows)"
   ]
  },
  {
   "cell_type": "code",
   "execution_count": 23,
   "id": "d82fb2cc-e88a-4652-8f1e-cc20334b158b",
   "metadata": {
    "jupyter": {
     "source_hidden": true
    }
   },
   "outputs": [
    {
     "data": {
      "text/plain": [
       "Text(0.5, 1.0, 'Accuracy Delta (n=16)')"
      ]
     },
     "execution_count": 23,
     "metadata": {},
     "output_type": "execute_result"
    },
    {
     "data": {
      "image/png": "[encoded data removed]",
      "text/plain": [
       "<Figure size 1200x300 with 1 Axes>"
      ]
     },
     "metadata": {},
     "output_type": "display_data"
    }
   ],
   "source": [
    "fig, ax = plt.subplots(figsize=(12,3))\n",
    "\n",
    "sns.scatterplot(x=\"segment\", y=\"accuracy_delta\", data=results, ax=ax)\n",
    "ax.set_title(\"Accuracy Delta (n=16)\")"
   ]
  },
  {
   "cell_type": "markdown",
   "id": "a0309715-5fd1-4589-81e0-626dd293561a",
   "metadata": {},
   "source": [
    "## Multi-Run Experiments (160 Questions)\n",
    "\n",
    "Next, we'll look at the actual results from Llama 3.2 3B (10 runs), Gemma 2 9B (10 runs), and GPT 4o Mini (3 runs)."
   ]
  },
  {
   "cell_type": "code",
   "execution_count": 24,
   "id": "7e14992f-30ca-443f-bb54-2987c2dcc224",
   "metadata": {},
   "outputs": [],
   "source": [
    "# Load results\n",
    "results_path = Path(\"notebooks/results\")\n",
    "\n",
    "paths = {\n",
    "    \"llama32_3b\": results_path / \"order-dependency-llama32-3b-fp16-160-10-20241105.json\",\n",
    "    \"gemma2_9b\": results_path / \"order-dependency-gemma2-9b-160-10-20241105.json\",\n",
    "    \"gpt4o_mini\": results_path / \"order-dependency-gpt-4o-mini-160-3-20241105.json\",\n",
    "}\n",
    "\n",
    "metrics = {k: json.loads(v.read_text()) for k, v in paths.items()}"
   ]
  },
  {
   "cell_type": "code",
   "execution_count": 31,
   "id": "b781f114-8a8a-48bc-ab78-43a28c4ff60a",
   "metadata": {},
   "outputs": [],
   "source": [
    "# Prep results\n",
    "rows = []\n",
    "for model_name, model_metrics in metrics.items():\n",
    "    for run in model_metrics:\n",
    "        baseline = run[\"uniform\"][\"accuracy\"]\n",
    "        for segment in [\"uniform\", \"A\", \"B\", \"C\", \"D\"]:\n",
    "            rows.append({\n",
    "                \"model_name\": model_name,\n",
    "                \"segment\": segment,\n",
    "                \"accuracy\": run[segment][\"accuracy\"],\n",
    "                \"accuracy_delta\": run[segment][\"accuracy\"] - baseline,\n",
    "            })\n",
    "results = DataFrame(rows)"
   ]
  },
  {
   "cell_type": "markdown",
   "id": "cd792fca-cc97-472d-9480-b11294d95806",
   "metadata": {},
   "source": [
    "### Accuracy (Absolute)"
   ]
  },
  {
   "cell_type": "code",
   "execution_count": 33,
   "id": "355c0e5a-4251-431e-b3f1-b4a90329db4f",
   "metadata": {
    "jupyter": {
     "source_hidden": true
    }
   },
   "outputs": [
    {
     "data": {
      "text/plain": [
       "Text(0.5, 1.0, 'GPT 4o Mini (3 runs)')"
      ]
     },
     "execution_count": 33,
     "metadata": {},
     "output_type": "execute_result"
    },
    {
     "data": {
      "image/png": "[encoded data removed]",
      "text/plain": [
       "<Figure size 1200x300 with 3 Axes>"
      ]
     },
     "metadata": {},
     "output_type": "display_data"
    }
   ],
   "source": [
    "fig, axs = plt.subplots(ncols=3, sharey=True, figsize=(12,3))\n",
    "\n",
    "# llama32_3b\n",
    "sns.boxplot(x=\"segment\", y=\"accuracy\", data=results[results.model_name == \"llama32_3b\"], ax=axs[0])\n",
    "axs[0].set_title(\"Llama 3.2 3B (10 runs)\")\n",
    "\n",
    "# gemma2_9b\n",
    "sns.boxplot(x=\"segment\", y=\"accuracy\", data=results[results.model_name == \"gemma2_9b\"], ax=axs[1])\n",
    "axs[1].set_title(\"Gemma 2 9B (10 runs)\")\n",
    "\n",
    "# gpt4o_mini\n",
    "sns.boxplot(x=\"segment\", y=\"accuracy\", data=results[results.model_name == \"gpt4o_mini\"], ax=axs[2])\n",
    "axs[2].set_title(\"GPT 4o Mini (3 runs)\")"
   ]
  },
  {
   "cell_type": "markdown",
   "id": "8100335b-0d14-4461-a51a-78d379989a9a",
   "metadata": {},
   "source": [
    "### Accuracy Delta (Relative)"
   ]
  },
  {
   "cell_type": "code",
   "execution_count": 32,
   "id": "feb3c11c-19d3-4839-b5a1-30f5e9f2f22f",
   "metadata": {
    "jupyter": {
     "source_hidden": true
    }
   },
   "outputs": [
    {
     "data": {
      "text/plain": [
       "Text(0.5, 1.0, 'GPT 4o Mini (3 runs)')"
      ]
     },
     "execution_count": 32,
     "metadata": {},
     "output_type": "execute_result"
    },
    {
     "data": {
      "image/png": "[encoded data removed]",
      "text/plain": [
       "<Figure size 1200x300 with 3 Axes>"
      ]
     },
     "metadata": {},
     "output_type": "display_data"
    }
   ],
   "source": [
    "fig, axs = plt.subplots(ncols=3, sharey=True, figsize=(12,3))\n",
    "\n",
    "# llama32_3b\n",
    "sns.boxplot(x=\"segment\", y=\"accuracy_delta\", data=results[results.model_name == \"llama32_3b\"], ax=axs[0])\n",
    "axs[0].set_title(\"Llama 3.2 3B (10 runs)\")\n",
    "\n",
    "# gemma2_9b\n",
    "sns.boxplot(x=\"segment\", y=\"accuracy_delta\", data=results[results.model_name == \"gemma2_9b\"], ax=axs[1])\n",
    "axs[1].set_title(\"Gemma 2 9B (10 runs)\")\n",
    "\n",
    "# gpt4o_mini\n",
    "sns.boxplot(x=\"segment\", y=\"accuracy_delta\", data=results[results.model_name == \"gpt4o_mini\"], ax=axs[2])\n",
    "axs[2].set_title(\"GPT 4o Mini (3 runs)\")"
   ]
  },
  {
   "cell_type": "markdown",
   "id": "6011df35-975e-4db1-83d2-a7646cc84ac6",
   "metadata": {},
   "source": [
    "## Discussion"
   ]
  },
  {
   "cell_type": "markdown",
   "id": "5168330f-76c1-4027-9a2e-d44179729032",
   "metadata": {},
   "source": [
    "The `accuracy` and `accuracy_delta` box plots above highlight several interesting patterns in the LLM behavior.\n",
    "\n",
    "* All 3 models clearly exhibit sensitivity to the order the options are presented.\n",
    "* While the preferred options and amount of bias varies across models, the individual models show consistent preference patterns. For example, Llama 3.2 3B shows a strong preference for options A, B, C and seems to avoid option D.\n",
    "* In fact, all 3 models seem to avoid option D."
   ]
  },
  {
   "cell_type": "markdown",
   "id": "8df4181f-8946-4cdc-939d-e8c1141b6ab7",
   "metadata": {},
   "source": [
    "# Improving Order Dependency"
   ]
  },
  {
   "cell_type": "markdown",
   "id": "7c39e1e7-63e5-41c4-9689-65ae4ea2871b",
   "metadata": {},
   "source": [
    "**TODO:** Explore improvements recommended by Pezeshkpour and Hruschka (2023), Zheng et al. (2024), and McIlroy-Young et al. (2024)"
   ]
  },
  {
   "cell_type": "markdown",
   "id": "399ae7fd-ce60-4153-b8fd-1769d3b932fa",
   "metadata": {},
   "source": [
    "# Appendix A: Experiment Snapshots"
   ]
  },
  {
   "cell_type": "markdown",
   "id": "d6177d9c-429a-46df-8be2-c0562a46d256",
   "metadata": {},
   "source": [
    "* [Llama 3.2 3B, 10 runs, 160 questions](https://github.com/stickshift/llm-mcq-bias)\n",
    "* [Gemma 2 9B, 10 runs, 160 questions](https://github.com/stickshift/llm-mcq-bias)\n",
    "* [GPT 4o Mini, 3 runs, 160 questions](https://github.com/stickshift/llm-mcq-bias)"
   ]
  },
  {
   "cell_type": "markdown",
   "id": "c69e4f46-d875-41fc-bb52-62790e363b70",
   "metadata": {},
   "source": [
    "# References"
   ]
  },
  {
   "cell_type": "markdown",
   "id": "a05377d8-5368-4933-b693-35f2a4307330",
   "metadata": {},
   "source": [
    "Hendrycks, Dan, Collin Burns, Steven Basart, Andy Zou, Mantas Mazeika, Dawn Song, and Jacob Steinhardt. 2021. “Measuring Massive Multitask Language Understanding.” arXiv. https://doi.org/10.48550/arXiv.2009.03300.\n",
    "\n",
    "Liusie, Adian, Potsawee Manakul, and Mark J. F. Gales. 2024. “LLM Comparative Assessment: Zero-Shot NLG Evaluation through Pairwise Comparisons Using Large Language Models.” arXiv. https://doi.org/10.48550/arXiv.2307.07889.\n",
    "\n",
    "McIlroy-Young, Reid, Katrina Brown, Conlan Olson, Linjun Zhang, and Cynthia Dwork. 2024. “Set-Based Prompting: Provably Solving the Language Model Order Dependency Problem.” arXiv. https://doi.org/10.48550/arXiv.2406.06581.\n",
    "\n",
    "Pezeshkpour, Pouya, and Estevam Hruschka. 2023. “Large Language Models Sensitivity to The Order of Options in Multiple-Choice Questions.” arXiv. https://doi.org/10.48550/arXiv.2308.11483.\n",
    "\n",
    "Zheng, Chujie, Hao Zhou, Fandong Meng, Jie Zhou, and Minlie Huang. 2024. “Large Language Models Are Not Robust Multiple Choice Selectors.” arXiv. https://doi.org/10.48550/arXiv.2309.03882."
   ]
  }
 ],
 "metadata": {
  "kernelspec": {
   "display_name": "Python 3 (ipykernel)",
   "language": "python",
   "name": "python3"
  },
  "language_info": {
   "codemirror_mode": {
    "name": "ipython",
    "version": 3
   },
   "file_extension": ".py",
   "mimetype": "text/x-python",
   "name": "python",
   "nbconvert_exporter": "python",
   "pygments_lexer": "ipython3",
   "version": "3.12.6"
  }
 },
 "nbformat": 4,
 "nbformat_minor": 5
}
