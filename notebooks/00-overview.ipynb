{
 "cells": [
  {
   "cell_type": "markdown",
   "id": "34045730-6901-497f-9164-4946a659b2da",
   "metadata": {},
   "source": [
    "# Exploring Order Dependency in LLMs\n",
    "\n",
    "While LLMs have demonstrated remarkable capabilities in understanding and generating text, they also exhibit a number of unexpected behavioral patterns. Hallucinations are one well known example, but there are others that are less obvious and more subtle. Here, we'll explore the *order dependency problem*: a language models' sensitivity to the order of tokens in a sequence. Like hallucinations, order dependency is a significant obstacle to user acceptance and broader adoption of AI solutions. This is because order dependency leads to inconsistent model outputs, making the model unreliable and eroding users' trust. Would you trust an AI that based your medical treatment plan on the order your lab reports were received?\n",
    "\n",
    "One specific area where order dependency has been thoroughly studied is in answering multiple choice questions (MCQs). Multiple researchers have independently shown that LLMs generate different answers to MCQs when the choices are presented in alternative orders. While researchers agree order dependency is a problem, they disagree on the causes and possible solutions. For example, Pezeshkpour and Hruschka (2023) suggest the problem is caused by *positional bias* where the model prefers options in certain positions (first, last, etc). In contrast, Zheng et al. (2024) suggest the problem is caused by *token bias* where the model prefers options with specific labels (A, B, C, etc). Each of these authors propose different solutions based on their respective diagnoses. McIlroy-Young et al. (2024) offer a more general solution that has fewer assumptions and isn't tied to position vs token bias.\n",
    "\n",
    "Over the rest of this post, we'll explore different aspects of the order dependency problem. We'll start by running our own experiments to demonstrate order dependency in LLMs following a similar approach to Zheng et al. (2024). Next, we'll compare recommendations from Pezeshkpour and Hruschka (2023), Zheng et al. (2024), and McIlroy-Young et al. (2024). Finally, we'll briefly discuss a handful of key take aways from the process."
   ]
  },
  {
   "cell_type": "markdown",
   "id": "6015a8b0-b0a8-46d8-83e0-c596e76bbde2",
   "metadata": {
    "jp-MarkdownHeadingCollapsed": true
   },
   "source": [
    "# Setup"
   ]
  },
  {
   "cell_type": "code",
   "execution_count": 1,
   "id": "8a0eb5eb-6768-4290-8c95-4ec7c7ac4b47",
   "metadata": {},
   "outputs": [],
   "source": [
    "import json\n",
    "import logging\n",
    "import os\n",
    "from pathlib import Path\n",
    "\n",
    "from matplotlib import pyplot as plt\n",
    "import pandas as pd\n",
    "from pandas import DataFrame\n",
    "from rich import print\n",
    "import seaborn as sns\n",
    "\n",
    "import llm_mcq_bias as lmb"
   ]
  },
  {
   "cell_type": "code",
   "execution_count": 2,
   "id": "e6069083-5368-45e2-9b30-d1532767458c",
   "metadata": {},
   "outputs": [],
   "source": [
    "# Switch to project root\n",
    "os.chdir(\"..\")\n",
    "\n",
    "# Configure logger\n",
    "logger = logging.getLogger(__name__)"
   ]
  },
  {
   "cell_type": "markdown",
   "id": "150c9b32-4a62-4853-83e6-33d3aa36138b",
   "metadata": {},
   "source": [
    "# Measuring Order Dependency"
   ]
  },
  {
   "cell_type": "markdown",
   "id": "ecebbb81-9ccc-488d-a206-52383635f729",
   "metadata": {},
   "source": [
    "Our first goal is to demonstrate order dependency in an MCQ setting for ourselves. We'll follow a similar process to Zheng et al. (2024) scaled down to fit into a more limited budget."
   ]
  },
  {
   "cell_type": "markdown",
   "id": "da697a8f-f0fd-4160-8aa3-7936148f203b",
   "metadata": {},
   "source": [
    "## MMLU Dataset"
   ]
  },
  {
   "cell_type": "markdown",
   "id": "19bff713-6a93-4c06-a08d-794decfdfb25",
   "metadata": {},
   "source": [
    "We'll start by downloading the Massive Multitask Language Understanding (MMLU) benchmark dataset from <https://github.com/hendrycks/test>. MMLU contains 14,042 MCQs from 57 categories. Each question has 4 options A, B, C, and D and one correct answer. In addition, each category has 5 example questions designed for few-shot experiments."
   ]
  },
  {
   "cell_type": "code",
   "execution_count": 3,
   "id": "df900f6b-8203-4f9f-8c53-fa0354cf0a10",
   "metadata": {},
   "outputs": [
    {
     "name": "stdout",
     "output_type": "stream",
     "text": [
      "Downloaded datasets .build/datasets/mmlu\n",
      "\n"
     ]
    }
   ],
   "source": [
    "!make datasets"
   ]
  },
  {
   "cell_type": "code",
   "execution_count": 4,
   "id": "8dd446f2-12c3-453f-8fbb-1afead3f851c",
   "metadata": {},
   "outputs": [],
   "source": [
    "dataset_path = Path(\".build\") / \"datasets\" / \"mmlu\"\n",
    "\n",
    "# Load example questions\n",
    "examples = lmb.datasets.mmlu.load_dataset(dataset_path, segment=\"dev\")\n",
    "\n",
    "# Load test questions\n",
    "questions = lmb.datasets.mmlu.load_dataset(dataset_path, segment=\"test\")"
   ]
  },
  {
   "cell_type": "code",
   "execution_count": 5,
   "id": "9a89a085-aaca-484e-9e97-34775b664e62",
   "metadata": {},
   "outputs": [
    {
     "data": {
      "text/html": [
       "<div>\n",
       "<style scoped>\n",
       "    .dataframe tbody tr th:only-of-type {\n",
       "        vertical-align: middle;\n",
       "    }\n",
       "\n",
       "    .dataframe tbody tr th {\n",
       "        vertical-align: top;\n",
       "    }\n",
       "\n",
       "    .dataframe thead th {\n",
       "        text-align: right;\n",
       "    }\n",
       "</style>\n",
       "<table border=\"1\" class=\"dataframe\">\n",
       "  <thead>\n",
       "    <tr style=\"text-align: right;\">\n",
       "      <th></th>\n",
       "      <th>question</th>\n",
       "      <th>A</th>\n",
       "      <th>B</th>\n",
       "      <th>C</th>\n",
       "      <th>D</th>\n",
       "      <th>answer</th>\n",
       "      <th>category</th>\n",
       "    </tr>\n",
       "  </thead>\n",
       "  <tbody>\n",
       "    <tr>\n",
       "      <th>9073</th>\n",
       "      <td>For which of these two scenarios does the main...</td>\n",
       "      <td>Wrong, Wrong</td>\n",
       "      <td>Wrong, Not wrong</td>\n",
       "      <td>Not wrong, Wrong</td>\n",
       "      <td>Not wrong, Not wrong</td>\n",
       "      <td>B</td>\n",
       "      <td>moral scenarios</td>\n",
       "    </tr>\n",
       "    <tr>\n",
       "      <th>12406</th>\n",
       "      <td>A 27-year-old man is brought to the emergency ...</td>\n",
       "      <td>Amphetamine intoxication</td>\n",
       "      <td>Bacterial meningitis</td>\n",
       "      <td>Delirium tremens</td>\n",
       "      <td>Neuroleptic malignant syndrome</td>\n",
       "      <td>D</td>\n",
       "      <td>professional medicine</td>\n",
       "    </tr>\n",
       "    <tr>\n",
       "      <th>9515</th>\n",
       "      <td>Which statement about absorption from the gast...</td>\n",
       "      <td>The absorption of glucose is associated with s...</td>\n",
       "      <td>Fructose is absorbed more rapidly than glucose.</td>\n",
       "      <td>Galactose and fructose are absorbed by the sam...</td>\n",
       "      <td>Most water absorption along the GI tract occur...</td>\n",
       "      <td>A</td>\n",
       "      <td>nutrition</td>\n",
       "    </tr>\n",
       "  </tbody>\n",
       "</table>\n",
       "</div>"
      ],
      "text/plain": [
       "                                                question  \\\n",
       "9073   For which of these two scenarios does the main...   \n",
       "12406  A 27-year-old man is brought to the emergency ...   \n",
       "9515   Which statement about absorption from the gast...   \n",
       "\n",
       "                                                       A  \\\n",
       "9073                                        Wrong, Wrong   \n",
       "12406                           Amphetamine intoxication   \n",
       "9515   The absorption of glucose is associated with s...   \n",
       "\n",
       "                                                     B  \\\n",
       "9073                                  Wrong, Not wrong   \n",
       "12406                             Bacterial meningitis   \n",
       "9515   Fructose is absorbed more rapidly than glucose.   \n",
       "\n",
       "                                                       C  \\\n",
       "9073                                    Not wrong, Wrong   \n",
       "12406                                   Delirium tremens   \n",
       "9515   Galactose and fructose are absorbed by the sam...   \n",
       "\n",
       "                                                       D answer  \\\n",
       "9073                                Not wrong, Not wrong      B   \n",
       "12406                     Neuroleptic malignant syndrome      D   \n",
       "9515   Most water absorption along the GI tract occur...      A   \n",
       "\n",
       "                    category  \n",
       "9073         moral scenarios  \n",
       "12406  professional medicine  \n",
       "9515               nutrition  "
      ]
     },
     "execution_count": 5,
     "metadata": {},
     "output_type": "execute_result"
    }
   ],
   "source": [
    "# Demo random sample of questions\n",
    "selected_questions = questions.sample(n=3)\n",
    "selected_questions"
   ]
  },
  {
   "cell_type": "markdown",
   "id": "864e57f5-9986-4094-85b4-15f7f5a49fe5",
   "metadata": {},
   "source": [
    "## Prompting"
   ]
  },
  {
   "cell_type": "markdown",
   "id": "be44de52-8366-42fb-87b0-f6702ae3af2b",
   "metadata": {},
   "source": [
    "We combine each question with the relevant examples to generate few-shot prompts."
   ]
  },
  {
   "cell_type": "code",
   "execution_count": 6,
   "id": "d92f0126-753b-4e56-9c3d-4a06b2eff0b1",
   "metadata": {},
   "outputs": [
    {
     "data": {
      "text/html": [
       "<pre style=\"white-space:pre;overflow-x:auto;line-height:normal;font-family:Menlo,'DejaVu Sans Mono',consolas,'Courier New',monospace\">You are a robot that only outputs JSON. You reply in JSON format with the field <span style=\"color: #008000; text-decoration-color: #008000\">'answer'</span>. For example, the \n",
       "following are multiple choice questions about moral scenarios.\n",
       "\n",
       "Example Question: For which of these two scenarios does the main character <span style=\"font-weight: bold\">(</span>who uses I/me/my<span style=\"font-weight: bold\">)</span> do something clearly \n",
       "morally wrong, according to ordinary moral standards in the US as of <span style=\"color: #008080; text-decoration-color: #008080; font-weight: bold\">2020</span>? Scenario <span style=\"color: #008080; text-decoration-color: #008080; font-weight: bold\">1</span> | I took his wallet after he \n",
       "harassed me at the bar. Scenario <span style=\"color: #008080; text-decoration-color: #008080; font-weight: bold\">2</span> | I made love to my newborn baby boy.\n",
       "\n",
       "A<span style=\"font-weight: bold\">)</span> Wrong, Wrong\n",
       "B<span style=\"font-weight: bold\">)</span> Wrong, Not wrong\n",
       "C<span style=\"font-weight: bold\">)</span> Not wrong, Wrong\n",
       "D<span style=\"font-weight: bold\">)</span> Not wrong, Not wrong\n",
       "\n",
       "Example Answer: <span style=\"font-weight: bold\">{</span><span style=\"color: #008000; text-decoration-color: #008000\">\"answer\"</span>: <span style=\"color: #008000; text-decoration-color: #008000\">\"A\"</span><span style=\"font-weight: bold\">}</span>\n",
       "\n",
       "Example Question: For which of these two scenarios does the main character <span style=\"font-weight: bold\">(</span>who uses I/me/my<span style=\"font-weight: bold\">)</span> do something clearly \n",
       "morally wrong, according to ordinary moral standards in the US as of <span style=\"color: #008080; text-decoration-color: #008080; font-weight: bold\">2020</span>? Scenario <span style=\"color: #008080; text-decoration-color: #008080; font-weight: bold\">1</span> | I asked for a cigarette \n",
       "from the guy outside the store. Scenario <span style=\"color: #008080; text-decoration-color: #008080; font-weight: bold\">2</span> | When the security guard left his post, I pocketed a rare coin.\n",
       "\n",
       "A<span style=\"font-weight: bold\">)</span> Wrong, Wrong\n",
       "B<span style=\"font-weight: bold\">)</span> Wrong, Not wrong\n",
       "C<span style=\"font-weight: bold\">)</span> Not wrong, Wrong\n",
       "D<span style=\"font-weight: bold\">)</span> Not wrong, Not wrong\n",
       "\n",
       "Example Answer: <span style=\"font-weight: bold\">{</span><span style=\"color: #008000; text-decoration-color: #008000\">\"answer\"</span>: <span style=\"color: #008000; text-decoration-color: #008000\">\"C\"</span><span style=\"font-weight: bold\">}</span>\n",
       "\n",
       "Given the examples above, your task is to answer the following question.\n",
       "\n",
       "Question: For which of these two scenarios does the main character <span style=\"font-weight: bold\">(</span>who uses I/me/my<span style=\"font-weight: bold\">)</span> do something clearly morally \n",
       "wrong, according to ordinary moral standards in the US as of <span style=\"color: #008080; text-decoration-color: #008080; font-weight: bold\">2020</span>? Scenario <span style=\"color: #008080; text-decoration-color: #008080; font-weight: bold\">1</span> | I planted a large garden in the \n",
       "center of the narrow public street. Scenario <span style=\"color: #008080; text-decoration-color: #008080; font-weight: bold\">2</span> | I drive very fast when I'm on a racetrack.\n",
       "\n",
       "A<span style=\"font-weight: bold\">)</span> Wrong, Wrong\n",
       "B<span style=\"font-weight: bold\">)</span> Wrong, Not wrong\n",
       "C<span style=\"font-weight: bold\">)</span> Not wrong, Wrong\n",
       "D<span style=\"font-weight: bold\">)</span> Not wrong, Not wrong\n",
       "\n",
       "Answer: \n",
       "</pre>\n"
      ],
      "text/plain": [
       "You are a robot that only outputs JSON. You reply in JSON format with the field \u001b[32m'answer'\u001b[0m. For example, the \n",
       "following are multiple choice questions about moral scenarios.\n",
       "\n",
       "Example Question: For which of these two scenarios does the main character \u001b[1m(\u001b[0mwho uses I/me/my\u001b[1m)\u001b[0m do something clearly \n",
       "morally wrong, according to ordinary moral standards in the US as of \u001b[1;36m2020\u001b[0m? Scenario \u001b[1;36m1\u001b[0m | I took his wallet after he \n",
       "harassed me at the bar. Scenario \u001b[1;36m2\u001b[0m | I made love to my newborn baby boy.\n",
       "\n",
       "A\u001b[1m)\u001b[0m Wrong, Wrong\n",
       "B\u001b[1m)\u001b[0m Wrong, Not wrong\n",
       "C\u001b[1m)\u001b[0m Not wrong, Wrong\n",
       "D\u001b[1m)\u001b[0m Not wrong, Not wrong\n",
       "\n",
       "Example Answer: \u001b[1m{\u001b[0m\u001b[32m\"answer\"\u001b[0m: \u001b[32m\"A\"\u001b[0m\u001b[1m}\u001b[0m\n",
       "\n",
       "Example Question: For which of these two scenarios does the main character \u001b[1m(\u001b[0mwho uses I/me/my\u001b[1m)\u001b[0m do something clearly \n",
       "morally wrong, according to ordinary moral standards in the US as of \u001b[1;36m2020\u001b[0m? Scenario \u001b[1;36m1\u001b[0m | I asked for a cigarette \n",
       "from the guy outside the store. Scenario \u001b[1;36m2\u001b[0m | When the security guard left his post, I pocketed a rare coin.\n",
       "\n",
       "A\u001b[1m)\u001b[0m Wrong, Wrong\n",
       "B\u001b[1m)\u001b[0m Wrong, Not wrong\n",
       "C\u001b[1m)\u001b[0m Not wrong, Wrong\n",
       "D\u001b[1m)\u001b[0m Not wrong, Not wrong\n",
       "\n",
       "Example Answer: \u001b[1m{\u001b[0m\u001b[32m\"answer\"\u001b[0m: \u001b[32m\"C\"\u001b[0m\u001b[1m}\u001b[0m\n",
       "\n",
       "Given the examples above, your task is to answer the following question.\n",
       "\n",
       "Question: For which of these two scenarios does the main character \u001b[1m(\u001b[0mwho uses I/me/my\u001b[1m)\u001b[0m do something clearly morally \n",
       "wrong, according to ordinary moral standards in the US as of \u001b[1;36m2020\u001b[0m? Scenario \u001b[1;36m1\u001b[0m | I planted a large garden in the \n",
       "center of the narrow public street. Scenario \u001b[1;36m2\u001b[0m | I drive very fast when I'm on a racetrack.\n",
       "\n",
       "A\u001b[1m)\u001b[0m Wrong, Wrong\n",
       "B\u001b[1m)\u001b[0m Wrong, Not wrong\n",
       "C\u001b[1m)\u001b[0m Not wrong, Wrong\n",
       "D\u001b[1m)\u001b[0m Not wrong, Not wrong\n",
       "\n",
       "Answer: \n"
      ]
     },
     "metadata": {},
     "output_type": "display_data"
    }
   ],
   "source": [
    "# Demo few-shot prompt\n",
    "prompt = lmb.datasets.mmlu.generate_prompt(examples, selected_questions.iloc[0], n_shots=2)\n",
    "print(prompt)"
   ]
  },
  {
   "cell_type": "markdown",
   "id": "f6da5f22-d54a-411a-97f1-3ada1d1b2d4a",
   "metadata": {},
   "source": [
    "Note that our prompt template is specifically designed to generate valid answers in machine-readable JSON format. Recommended by [Meta AI's prompting guide](https://www.llama.com/docs/how-to-guides/prompting#limiting-extraneous-tokens), this technique allows us to parse the answer directly from the model output instead of searching through the model's internal logits for \"A\", \"B\", \"C\", \"D\" tokens. While this is a deviation from Hendrycks et al. (2021) and Zheng et al. (2024), parsing the answers from the model outputs is simpler and generalizes to models where the internal logits are not exposed."
   ]
  },
  {
   "cell_type": "markdown",
   "id": "97fcdde9-f923-453d-8ccf-c1084c331040",
   "metadata": {},
   "source": [
    "## Models"
   ]
  },
  {
   "cell_type": "code",
   "execution_count": null,
   "id": "4f771a10-eea5-43d9-a678-e81bbed2b266",
   "metadata": {},
   "outputs": [],
   "source": []
  },
  {
   "cell_type": "code",
   "execution_count": null,
   "id": "af5f7515-4d8e-4b0f-99d5-498a1a8718f5",
   "metadata": {},
   "outputs": [],
   "source": []
  },
  {
   "cell_type": "code",
   "execution_count": null,
   "id": "85dd1e64-c5a5-4882-aec3-309c0f55b3b1",
   "metadata": {},
   "outputs": [],
   "source": []
  },
  {
   "cell_type": "markdown",
   "id": "73303535-5553-4b35-86a6-9a397a5e86ac",
   "metadata": {},
   "source": [
    "## Results"
   ]
  },
  {
   "cell_type": "code",
   "execution_count": 7,
   "id": "7e14992f-30ca-443f-bb54-2987c2dcc224",
   "metadata": {
    "jupyter": {
     "source_hidden": true
    }
   },
   "outputs": [],
   "source": [
    "results_path = Path(\"notebooks/results\")\n",
    "\n",
    "paths = {\n",
    "    \"llama32_3b\": results_path / \"order-dependency-llama32-3b-fp16-160-10-20241105.json\",\n",
    "    \"gemma2_9b\": results_path / \"order-dependency-gemma2-9b-160-10-20241105.json\",\n",
    "    \"gpt4o_mini\": results_path / \"order-dependency-gpt-4o-mini-160-3-20241105.json\",\n",
    "}\n",
    "\n",
    "metrics = {k: json.loads(v.read_text()) for k, v in paths.items()}"
   ]
  },
  {
   "cell_type": "markdown",
   "id": "ac036ba2-ad9e-4ca5-9c92-c0892fc0edeb",
   "metadata": {},
   "source": [
    "### Accuracy Delta"
   ]
  },
  {
   "cell_type": "code",
   "execution_count": 8,
   "id": "b781f114-8a8a-48bc-ab78-43a28c4ff60a",
   "metadata": {
    "jupyter": {
     "source_hidden": true
    }
   },
   "outputs": [],
   "source": [
    "# Prep results\n",
    "rows = []\n",
    "for model_name, model_metrics in metrics.items():\n",
    "    for run in model_metrics:\n",
    "        baseline = run[\"uniform\"][\"accuracy\"]\n",
    "        for segment in [\"uniform\", \"A\", \"B\", \"C\", \"D\"]:\n",
    "            rows.append({\n",
    "                \"model_name\": model_name,\n",
    "                \"segment\": segment,\n",
    "                \"accuracy_delta\": run[segment][\"accuracy\"] - baseline,\n",
    "            })\n",
    "results = DataFrame(rows)"
   ]
  },
  {
   "cell_type": "code",
   "execution_count": 9,
   "id": "feb3c11c-19d3-4839-b5a1-30f5e9f2f22f",
   "metadata": {
    "jupyter": {
     "source_hidden": true
    }
   },
   "outputs": [
    {
     "data": {
      "text/plain": [
       "Text(0.5, 1.0, 'GPT 4o Mini (3 runs)')"
      ]
     },
     "execution_count": 9,
     "metadata": {},
     "output_type": "execute_result"
    },
    {
     "data": {
      "image/png": "[encoded data removed]",
      "text/plain": [
       "<Figure size 1200x300 with 3 Axes>"
      ]
     },
     "metadata": {},
     "output_type": "display_data"
    }
   ],
   "source": [
    "fig, axs = plt.subplots(ncols=3, figsize=(12,3))\n",
    "fig.subplots_adjust(wspace=0.4)\n",
    "\n",
    "# llama32_3b\n",
    "sns.boxplot(x=\"segment\", y=\"accuracy_delta\", data=results[results.model_name == \"llama32_3b\"], ax=axs[0])\n",
    "axs[0].set_title(\"Llama 3.2 3B (10 runs)\")\n",
    "\n",
    "# gemma2_9b\n",
    "sns.boxplot(x=\"segment\", y=\"accuracy_delta\", data=results[results.model_name == \"gemma2_9b\"], ax=axs[1])\n",
    "axs[1].set_title(\"Gemma 2 9B (10 runs)\")\n",
    "\n",
    "# gpt4o_mini\n",
    "sns.boxplot(x=\"segment\", y=\"accuracy_delta\", data=results[results.model_name == \"gpt4o_mini\"], ax=axs[2])\n",
    "axs[2].set_title(\"GPT 4o Mini (3 runs)\")"
   ]
  },
  {
   "cell_type": "code",
   "execution_count": null,
   "id": "90f4f8db-c65b-4080-a99c-6f32c9103d8e",
   "metadata": {},
   "outputs": [],
   "source": []
  },
  {
   "cell_type": "code",
   "execution_count": null,
   "id": "3f38664f-e02c-4a0f-b0fe-fd9da7173792",
   "metadata": {},
   "outputs": [],
   "source": []
  },
  {
   "cell_type": "code",
   "execution_count": null,
   "id": "4a7afb94-5916-40fe-8c4c-414570fd1ba3",
   "metadata": {},
   "outputs": [],
   "source": []
  }
 ],
 "metadata": {
  "kernelspec": {
   "display_name": "Python 3 (ipykernel)",
   "language": "python",
   "name": "python3"
  },
  "language_info": {
   "codemirror_mode": {
    "name": "ipython",
    "version": 3
   },
   "file_extension": ".py",
   "mimetype": "text/x-python",
   "name": "python",
   "nbconvert_exporter": "python",
   "pygments_lexer": "ipython3",
   "version": "3.12.6"
  }
 },
 "nbformat": 4,
 "nbformat_minor": 5
}
