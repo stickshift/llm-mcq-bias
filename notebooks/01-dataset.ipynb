{
 "cells": [
  {
   "cell_type": "markdown",
   "id": "b32ff302-2478-46a5-abe3-e3bc9c98034e",
   "metadata": {},
   "source": [
    "# Dataset\n",
    "\n",
    "Before we try to demonstrate positional bias, we need a good source of MCQs. We'll use the Measuring Massive Multitask Language Understanding (MMLU) (Hendrycks et al. 2021) dataset of multiple choice questions downloaded from the MMLU repository https://github.com/hendrycks/test. MMLU contains 14,042 MCQs from 57 categories.\n",
    "\n",
    "Here, we load the Measuring Massive Multitask Language Understanding (MMLU) (Hendrycks et al. 2021) dataset of multiple choice questions downloaded from the MMLU repository https://github.com/hendrycks/test. Each question has 4 options A, B, C, and D and one correct answer. In addition, each category has 5 example questions designed for consistent, 5-shot experiments."
   ]
  },
  {
   "cell_type": "markdown",
   "id": "fb3b5f13-7bdd-4c3e-8875-34a90aeb72f1",
   "metadata": {},
   "source": [
    "# Setup"
   ]
  },
  {
   "cell_type": "code",
   "execution_count": 1,
   "id": "8891440b-e068-473a-8e3d-f924c2ca1ab1",
   "metadata": {},
   "outputs": [],
   "source": [
    "import logging\n",
    "from pathlib import Path\n",
    "\n",
    "from matplotlib import pyplot as plt\n",
    "\n",
    "import llm_mcq_bias as lmb"
   ]
  },
  {
   "cell_type": "code",
   "execution_count": 2,
   "id": "44f043b0-a7cf-49bc-aaf2-8687e341275d",
   "metadata": {},
   "outputs": [],
   "source": [
    "project_path = Path(\"../\")\n",
    "datasets_path = project_path / \".build\" / \"datasets\"\n",
    "\n",
    "logger = logging.getLogger(__name__)"
   ]
  },
  {
   "cell_type": "markdown",
   "id": "78f9d195-bf77-434e-86e7-5e38f7457fe5",
   "metadata": {},
   "source": [
    "# Load Data\n",
    "\n",
    "We'll start by loading the unmodified MMLU dataset."
   ]
  },
  {
   "cell_type": "code",
   "execution_count": 3,
   "id": "fccbe16e-e85e-4472-abe5-0728335bbc1d",
   "metadata": {},
   "outputs": [],
   "source": [
    "# Load example questions\n",
    "examples = lmb.datasets.mmlu.load_dataset(datasets_path, segment=\"dev\")\n",
    "\n",
    "# Load test questions\n",
    "questions = lmb.datasets.mmlu.load_dataset(datasets_path, segment=\"test\")"
   ]
  },
  {
   "cell_type": "code",
   "execution_count": 4,
   "id": "434b92bd-1588-45e2-8d7d-f5ef659bce27",
   "metadata": {},
   "outputs": [
    {
     "data": {
      "text/html": [
       "<div>\n",
       "<style scoped>\n",
       "    .dataframe tbody tr th:only-of-type {\n",
       "        vertical-align: middle;\n",
       "    }\n",
       "\n",
       "    .dataframe tbody tr th {\n",
       "        vertical-align: top;\n",
       "    }\n",
       "\n",
       "    .dataframe thead th {\n",
       "        text-align: right;\n",
       "    }\n",
       "</style>\n",
       "<table border=\"1\" class=\"dataframe\">\n",
       "  <thead>\n",
       "    <tr style=\"text-align: right;\">\n",
       "      <th></th>\n",
       "      <th>question</th>\n",
       "      <th>A</th>\n",
       "      <th>B</th>\n",
       "      <th>C</th>\n",
       "      <th>D</th>\n",
       "      <th>answer</th>\n",
       "      <th>category</th>\n",
       "    </tr>\n",
       "  </thead>\n",
       "  <tbody>\n",
       "    <tr>\n",
       "      <th>6035</th>\n",
       "      <td>This question refers to the following informat...</td>\n",
       "      <td>Mali was able to forge advanced bronze tools f...</td>\n",
       "      <td>International trade with Sub-Saharan Africa in...</td>\n",
       "      <td>The jizya could only be collected on unbelieve...</td>\n",
       "      <td>Mali's relatively advanced mining technologies...</td>\n",
       "      <td>B</td>\n",
       "      <td>high school world history</td>\n",
       "    </tr>\n",
       "    <tr>\n",
       "      <th>7133</th>\n",
       "      <td>Which type of retailer involves comparatively ...</td>\n",
       "      <td>Discount retailers.</td>\n",
       "      <td>Convenience stores.</td>\n",
       "      <td>Category killer stores.</td>\n",
       "      <td>Limited line retailers.</td>\n",
       "      <td>A</td>\n",
       "      <td>marketing</td>\n",
       "    </tr>\n",
       "    <tr>\n",
       "      <th>6275</th>\n",
       "      <td>About what percentage of people who have had b...</td>\n",
       "      <td>Less than 25%</td>\n",
       "      <td>Less than 50%</td>\n",
       "      <td>More than 50%</td>\n",
       "      <td>More than 75%</td>\n",
       "      <td>C</td>\n",
       "      <td>human aging</td>\n",
       "    </tr>\n",
       "    <tr>\n",
       "      <th>750</th>\n",
       "      <td>Phosphocreatine in the muscle cell is found in:</td>\n",
       "      <td>the mitochondria.</td>\n",
       "      <td>all subcellular compartments.</td>\n",
       "      <td>the sarcolemma.</td>\n",
       "      <td>the cytoplasm.</td>\n",
       "      <td>D</td>\n",
       "      <td>clinical knowledge</td>\n",
       "    </tr>\n",
       "    <tr>\n",
       "      <th>3356</th>\n",
       "      <td>This question refers to the following informat...</td>\n",
       "      <td>Sicily ceased to be an independent kingdom.</td>\n",
       "      <td>Italians liberated Rome.</td>\n",
       "      <td>Rome became the head of a French Department.</td>\n",
       "      <td>French troops abandoned Rome to fight in the F...</td>\n",
       "      <td>D</td>\n",
       "      <td>high school european history</td>\n",
       "    </tr>\n",
       "  </tbody>\n",
       "</table>\n",
       "</div>"
      ],
      "text/plain": [
       "                                               question  \\\n",
       "6035  This question refers to the following informat...   \n",
       "7133  Which type of retailer involves comparatively ...   \n",
       "6275  About what percentage of people who have had b...   \n",
       "750     Phosphocreatine in the muscle cell is found in:   \n",
       "3356  This question refers to the following informat...   \n",
       "\n",
       "                                                      A  \\\n",
       "6035  Mali was able to forge advanced bronze tools f...   \n",
       "7133                                Discount retailers.   \n",
       "6275                                      Less than 25%   \n",
       "750                                   the mitochondria.   \n",
       "3356        Sicily ceased to be an independent kingdom.   \n",
       "\n",
       "                                                      B  \\\n",
       "6035  International trade with Sub-Saharan Africa in...   \n",
       "7133                                Convenience stores.   \n",
       "6275                                      Less than 50%   \n",
       "750                       all subcellular compartments.   \n",
       "3356                           Italians liberated Rome.   \n",
       "\n",
       "                                                      C  \\\n",
       "6035  The jizya could only be collected on unbelieve...   \n",
       "7133                            Category killer stores.   \n",
       "6275                                      More than 50%   \n",
       "750                                     the sarcolemma.   \n",
       "3356       Rome became the head of a French Department.   \n",
       "\n",
       "                                                      D answer  \\\n",
       "6035  Mali's relatively advanced mining technologies...      B   \n",
       "7133                            Limited line retailers.      A   \n",
       "6275                                      More than 75%      C   \n",
       "750                                      the cytoplasm.      D   \n",
       "3356  French troops abandoned Rome to fight in the F...      D   \n",
       "\n",
       "                          category  \n",
       "6035     high school world history  \n",
       "7133                     marketing  \n",
       "6275                   human aging  \n",
       "750             clinical knowledge  \n",
       "3356  high school european history  "
      ]
     },
     "execution_count": 4,
     "metadata": {},
     "output_type": "execute_result"
    }
   ],
   "source": [
    "questions.sample(n=5)"
   ]
  },
  {
   "cell_type": "markdown",
   "id": "65aea115-1257-415b-b2b9-5e1f9d8cb433",
   "metadata": {},
   "source": [
    "# Answer Distribution\n",
    "\n",
    "Our goal is to quantify a model's inherrent positional bias by measuring the difference in accuracy caused by shifting all the correct answers to a specific option. However, if the initial pool of questions is already biased, it becomes difficult to confidently estimate the model's underlying bias.\n",
    "\n",
    "Let's take a look at the distribution of correct answers in MMLU dataset."
   ]
  },
  {
   "cell_type": "code",
   "execution_count": 5,
   "id": "a5c36306-2ea0-408b-b895-1d56452f59b2",
   "metadata": {},
   "outputs": [
    {
     "data": {
      "text/plain": [
       "Text(0.5, 1.0, 'Examples')"
      ]
     },
     "execution_count": 5,
     "metadata": {},
     "output_type": "execute_result"
    },
    {
     "data": {
      "image/png": "[encoded data removed]",
      "text/plain": [
       "<Figure size 1200x400 with 2 Axes>"
      ]
     },
     "metadata": {},
     "output_type": "display_data"
    }
   ],
   "source": [
    "fig, axs = plt.subplots(ncols=2, figsize=(12, 4))\n",
    "\n",
    "questions.answer.value_counts().plot.bar(ax=axs[0])\n",
    "axs[0].set_title(\"Questions\")\n",
    "\n",
    "examples.answer.value_counts().plot.bar(ax=axs[1])\n",
    "axs[1].set_title(\"Examples\")"
   ]
  },
  {
   "cell_type": "markdown",
   "id": "2491cd96-423e-4c59-b9f9-cd91498d9faa",
   "metadata": {},
   "source": [
    "We can see a slight bias in both the test and example questions."
   ]
  },
  {
   "cell_type": "markdown",
   "id": "3d628e6b-9b65-4fa9-9440-b94251a53169",
   "metadata": {},
   "source": [
    "# Normalize Answer Distribution\n",
    "\n",
    "To better support our positional bias experiment, we normalize the answer distribution so each option is uniformly distributed."
   ]
  },
  {
   "cell_type": "markdown",
   "id": "89af1673-4bea-4178-9d1c-5ed2529a25f4",
   "metadata": {},
   "source": [
    "## Questions"
   ]
  },
  {
   "cell_type": "code",
   "execution_count": 6,
   "id": "61b9c710-4ea0-48c7-abb0-cc1cedece110",
   "metadata": {},
   "outputs": [],
   "source": [
    "normalized_questions = lmb.datasets.mmlu.normalize_question_answers(questions)"
   ]
  },
  {
   "cell_type": "code",
   "execution_count": 7,
   "id": "323d398b-1bdb-41b1-9094-e3a232aae337",
   "metadata": {},
   "outputs": [
    {
     "data": {
      "text/html": [
       "<div>\n",
       "<style scoped>\n",
       "    .dataframe tbody tr th:only-of-type {\n",
       "        vertical-align: middle;\n",
       "    }\n",
       "\n",
       "    .dataframe tbody tr th {\n",
       "        vertical-align: top;\n",
       "    }\n",
       "\n",
       "    .dataframe thead th {\n",
       "        text-align: right;\n",
       "    }\n",
       "</style>\n",
       "<table border=\"1\" class=\"dataframe\">\n",
       "  <thead>\n",
       "    <tr style=\"text-align: right;\">\n",
       "      <th></th>\n",
       "      <th>question</th>\n",
       "      <th>A</th>\n",
       "      <th>B</th>\n",
       "      <th>C</th>\n",
       "      <th>D</th>\n",
       "      <th>answer</th>\n",
       "      <th>category</th>\n",
       "    </tr>\n",
       "  </thead>\n",
       "  <tbody>\n",
       "    <tr>\n",
       "      <th>0</th>\n",
       "      <td>The quantum efficiency of a photon detector is...</td>\n",
       "      <td>an average of 10 times, with an rms deviation ...</td>\n",
       "      <td>an average of 10 times, with an rms deviation ...</td>\n",
       "      <td>an average of 10 times, with an rms deviation ...</td>\n",
       "      <td>exactly 10 times</td>\n",
       "      <td>A</td>\n",
       "      <td>college physics</td>\n",
       "    </tr>\n",
       "    <tr>\n",
       "      <th>1</th>\n",
       "      <td>The economy is currently operating at full emp...</td>\n",
       "      <td>Falls     Falls     Falls     Falls</td>\n",
       "      <td>Falls     Falls     No change     Falls</td>\n",
       "      <td>No change     Falls     No change     No change</td>\n",
       "      <td>Falls     Falls     No change     No change</td>\n",
       "      <td>B</td>\n",
       "      <td>high school macroeconomics</td>\n",
       "    </tr>\n",
       "    <tr>\n",
       "      <th>2</th>\n",
       "      <td>Which of the following compounds has a 1H reso...</td>\n",
       "      <td>CH3F</td>\n",
       "      <td>CH3Cl</td>\n",
       "      <td>CH3Br</td>\n",
       "      <td>CH3I</td>\n",
       "      <td>B</td>\n",
       "      <td>college chemistry</td>\n",
       "    </tr>\n",
       "    <tr>\n",
       "      <th>3</th>\n",
       "      <td>On May 10, 1955, a rancher, owner of a 300-acr...</td>\n",
       "      <td>Yes, because if all the leased land is condemn...</td>\n",
       "      <td>Yes, because the holder of an easement benefit...</td>\n",
       "      <td>No, because by discontinuing its operation of ...</td>\n",
       "      <td>No, because the holder of an easement is not e...</td>\n",
       "      <td>C</td>\n",
       "      <td>professional law</td>\n",
       "    </tr>\n",
       "    <tr>\n",
       "      <th>4</th>\n",
       "      <td>Where was the first British newspaper printed?</td>\n",
       "      <td>London</td>\n",
       "      <td>Oxford</td>\n",
       "      <td>Manchester</td>\n",
       "      <td>Edinburgh</td>\n",
       "      <td>B</td>\n",
       "      <td>public relations</td>\n",
       "    </tr>\n",
       "  </tbody>\n",
       "</table>\n",
       "</div>"
      ],
      "text/plain": [
       "                                            question  \\\n",
       "0  The quantum efficiency of a photon detector is...   \n",
       "1  The economy is currently operating at full emp...   \n",
       "2  Which of the following compounds has a 1H reso...   \n",
       "3  On May 10, 1955, a rancher, owner of a 300-acr...   \n",
       "4     Where was the first British newspaper printed?   \n",
       "\n",
       "                                                   A  \\\n",
       "0  an average of 10 times, with an rms deviation ...   \n",
       "1                Falls     Falls     Falls     Falls   \n",
       "2                                               CH3F   \n",
       "3  Yes, because if all the leased land is condemn...   \n",
       "4                                             London   \n",
       "\n",
       "                                                   B  \\\n",
       "0  an average of 10 times, with an rms deviation ...   \n",
       "1            Falls     Falls     No change     Falls   \n",
       "2                                              CH3Cl   \n",
       "3  Yes, because the holder of an easement benefit...   \n",
       "4                                             Oxford   \n",
       "\n",
       "                                                   C  \\\n",
       "0  an average of 10 times, with an rms deviation ...   \n",
       "1    No change     Falls     No change     No change   \n",
       "2                                              CH3Br   \n",
       "3  No, because by discontinuing its operation of ...   \n",
       "4                                         Manchester   \n",
       "\n",
       "                                                   D answer  \\\n",
       "0                                   exactly 10 times      A   \n",
       "1        Falls     Falls     No change     No change      B   \n",
       "2                                               CH3I      B   \n",
       "3  No, because the holder of an easement is not e...      C   \n",
       "4                                          Edinburgh      B   \n",
       "\n",
       "                     category  \n",
       "0             college physics  \n",
       "1  high school macroeconomics  \n",
       "2           college chemistry  \n",
       "3            professional law  \n",
       "4            public relations  "
      ]
     },
     "execution_count": 7,
     "metadata": {},
     "output_type": "execute_result"
    }
   ],
   "source": [
    "normalized_questions.head()"
   ]
  },
  {
   "cell_type": "code",
   "execution_count": 8,
   "id": "0c64f2d5-2b1d-458a-aa2e-76523ce9f4e7",
   "metadata": {},
   "outputs": [
    {
     "data": {
      "text/plain": [
       "Text(0.5, 1.0, 'Normalized Questions')"
      ]
     },
     "execution_count": 8,
     "metadata": {},
     "output_type": "execute_result"
    },
    {
     "data": {
      "image/png": "[encoded data removed]",
      "text/plain": [
       "<Figure size 1200x400 with 2 Axes>"
      ]
     },
     "metadata": {},
     "output_type": "display_data"
    }
   ],
   "source": [
    "fig, axs = plt.subplots(ncols=2, figsize=(12, 4))\n",
    "\n",
    "questions.answer.value_counts().plot.bar(ax=axs[0])\n",
    "axs[0].set_title(\"Original Questions\")\n",
    "\n",
    "normalized_questions.answer.value_counts().plot.bar(ax=axs[1])\n",
    "axs[1].set_title(\"Normalized Questions\")"
   ]
  },
  {
   "cell_type": "markdown",
   "id": "22e64af7-52bf-4914-ad2c-5de6e9cef54d",
   "metadata": {},
   "source": [
    "## Examples\n",
    "\n",
    "Each category has 5 example questions used to generate few-shot prompts. Since we only have 4 options, we can't evenly distribute the 5 answers for each category. Since we're not trying to maximize model accuracy, we simply throw away one of the example questions and evenly distribute the remaining 4."
   ]
  },
  {
   "cell_type": "code",
   "execution_count": 9,
   "id": "5df623da-9189-4a2a-9328-b422b27861c9",
   "metadata": {},
   "outputs": [],
   "source": [
    "normalized_examples = lmb.datasets.mmlu.normalize_example_answers(examples)"
   ]
  },
  {
   "cell_type": "code",
   "execution_count": 10,
   "id": "30fcb9d9-4856-46d4-b890-f9387dbcae0d",
   "metadata": {},
   "outputs": [
    {
     "data": {
      "text/plain": [
       "Text(0.5, 1.0, 'Normalized Examples')"
      ]
     },
     "execution_count": 10,
     "metadata": {},
     "output_type": "execute_result"
    },
    {
     "data": {
      "image/png": "[encoded data removed]",
      "text/plain": [
       "<Figure size 1200x400 with 2 Axes>"
      ]
     },
     "metadata": {},
     "output_type": "display_data"
    }
   ],
   "source": [
    "fig, axs = plt.subplots(ncols=2, figsize=(12, 4))\n",
    "\n",
    "examples.answer.value_counts().plot.bar(ax=axs[0])\n",
    "axs[0].set_title(\"Original Examples\")\n",
    "\n",
    "normalized_examples.answer.value_counts().plot.bar(ax=axs[1])\n",
    "axs[1].set_title(\"Normalized Examples\")"
   ]
  },
  {
   "cell_type": "code",
   "execution_count": null,
   "id": "1ab696eb-946e-45b4-93f8-141448f0deb2",
   "metadata": {},
   "outputs": [],
   "source": []
  },
  {
   "cell_type": "code",
   "execution_count": null,
   "id": "faf9d310-2987-4f57-afe6-8c192d24078e",
   "metadata": {},
   "outputs": [],
   "source": []
  },
  {
   "cell_type": "code",
   "execution_count": null,
   "id": "f071674d-d22f-4b8e-a0a4-525b816d293e",
   "metadata": {},
   "outputs": [],
   "source": []
  },
  {
   "cell_type": "code",
   "execution_count": null,
   "id": "be541878-c5ca-4803-a519-ee5ba58b926a",
   "metadata": {},
   "outputs": [],
   "source": []
  },
  {
   "cell_type": "code",
   "execution_count": null,
   "id": "9b833065-ad59-4ed3-a38d-84da30f382ad",
   "metadata": {},
   "outputs": [],
   "source": []
  }
 ],
 "metadata": {
  "kernelspec": {
   "display_name": "Python 3 (ipykernel)",
   "language": "python",
   "name": "python3"
  },
  "language_info": {
   "codemirror_mode": {
    "name": "ipython",
    "version": 3
   },
   "file_extension": ".py",
   "mimetype": "text/x-python",
   "name": "python",
   "nbconvert_exporter": "python",
   "pygments_lexer": "ipython3",
   "version": "3.12.6"
  }
 },
 "nbformat": 4,
 "nbformat_minor": 5
}
