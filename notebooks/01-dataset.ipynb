{
 "cells": [
  {
   "cell_type": "markdown",
   "id": "b32ff302-2478-46a5-abe3-e3bc9c98034e",
   "metadata": {},
   "source": [
    "# Dataset\n",
    "\n",
    "Before we try to demonstrate positional bias, we need a good source of MCQs. We'll use the Measuring Massive Multitask Language Understanding (MMLU) (Hendrycks et al. 2021) dataset of multiple choice questions downloaded from the MMLU repository https://github.com/hendrycks/test. MMLU contains 14,042 MCQs from 57 categories.\n",
    "\n",
    "Here, we load the Measuring Massive Multitask Language Understanding (MMLU) (Hendrycks et al. 2021) dataset of multiple choice questions downloaded from the MMLU repository https://github.com/hendrycks/test. Each question has 4 options A, B, C, and D and one correct answer. In addition, each category has 5 example questions designed for consistent, 5-shot experiments."
   ]
  },
  {
   "cell_type": "markdown",
   "id": "fb3b5f13-7bdd-4c3e-8875-34a90aeb72f1",
   "metadata": {
    "jp-MarkdownHeadingCollapsed": true
   },
   "source": [
    "# Setup"
   ]
  },
  {
   "cell_type": "code",
   "execution_count": 1,
   "id": "8891440b-e068-473a-8e3d-f924c2ca1ab1",
   "metadata": {},
   "outputs": [],
   "source": [
    "import logging\n",
    "from pathlib import Path\n",
    "\n",
    "from matplotlib import pyplot as plt\n",
    "\n",
    "import llm_mcq_bias as lmb"
   ]
  },
  {
   "cell_type": "code",
   "execution_count": 2,
   "id": "44f043b0-a7cf-49bc-aaf2-8687e341275d",
   "metadata": {},
   "outputs": [],
   "source": [
    "project_path = Path(\"../\")\n",
    "datasets_path = project_path / \".build\" / \"datasets\"\n",
    "\n",
    "logger = logging.getLogger(__name__)"
   ]
  },
  {
   "cell_type": "markdown",
   "id": "78f9d195-bf77-434e-86e7-5e38f7457fe5",
   "metadata": {},
   "source": [
    "# Load Data\n",
    "\n",
    "We'll start by loading the unmodified MMLU dataset."
   ]
  },
  {
   "cell_type": "code",
   "execution_count": 3,
   "id": "fccbe16e-e85e-4472-abe5-0728335bbc1d",
   "metadata": {},
   "outputs": [],
   "source": [
    "# Load example questions\n",
    "examples = lmb.datasets.mmlu.load_dataset(datasets_path, segment=\"dev\")\n",
    "\n",
    "# Load test questions\n",
    "questions = lmb.datasets.mmlu.load_dataset(datasets_path, segment=\"test\")"
   ]
  },
  {
   "cell_type": "code",
   "execution_count": 4,
   "id": "434b92bd-1588-45e2-8d7d-f5ef659bce27",
   "metadata": {},
   "outputs": [
    {
     "data": {
      "text/html": [
       "<div>\n",
       "<style scoped>\n",
       "    .dataframe tbody tr th:only-of-type {\n",
       "        vertical-align: middle;\n",
       "    }\n",
       "\n",
       "    .dataframe tbody tr th {\n",
       "        vertical-align: top;\n",
       "    }\n",
       "\n",
       "    .dataframe thead th {\n",
       "        text-align: right;\n",
       "    }\n",
       "</style>\n",
       "<table border=\"1\" class=\"dataframe\">\n",
       "  <thead>\n",
       "    <tr style=\"text-align: right;\">\n",
       "      <th></th>\n",
       "      <th>question</th>\n",
       "      <th>A</th>\n",
       "      <th>B</th>\n",
       "      <th>C</th>\n",
       "      <th>D</th>\n",
       "      <th>answer</th>\n",
       "      <th>category</th>\n",
       "    </tr>\n",
       "  </thead>\n",
       "  <tbody>\n",
       "    <tr>\n",
       "      <th>4600</th>\n",
       "      <td>Children develop internal representational sys...</td>\n",
       "      <td>Sensorimotor</td>\n",
       "      <td>Preoperational</td>\n",
       "      <td>Symbolic</td>\n",
       "      <td>Concrete operational</td>\n",
       "      <td>B</td>\n",
       "      <td>high school psychology</td>\n",
       "    </tr>\n",
       "    <tr>\n",
       "      <th>2082</th>\n",
       "      <td>Which of the following circumstances most like...</td>\n",
       "      <td>There are unusual discrepancies between the en...</td>\n",
       "      <td>Management enforces strict budgetary controls ...</td>\n",
       "      <td>Cash transactions are electronically processed...</td>\n",
       "      <td>The monthly bank reconciliation ordinarily inc...</td>\n",
       "      <td>A</td>\n",
       "      <td>professional accounting</td>\n",
       "    </tr>\n",
       "    <tr>\n",
       "      <th>13288</th>\n",
       "      <td>What family do most European languages belong to?</td>\n",
       "      <td>Ural-Altaic</td>\n",
       "      <td>Basque</td>\n",
       "      <td>Indo-European</td>\n",
       "      <td>Phoenician</td>\n",
       "      <td>C</td>\n",
       "      <td>high school geography</td>\n",
       "    </tr>\n",
       "    <tr>\n",
       "      <th>13768</th>\n",
       "      <td>This question refers to the following informat...</td>\n",
       "      <td>New England businessmen, who were discriminate...</td>\n",
       "      <td>Southern women, who incorporated it into a lar...</td>\n",
       "      <td>bankers, who had run out of paper currency to ...</td>\n",
       "      <td>farmers, who hoped that a more generous money ...</td>\n",
       "      <td>D</td>\n",
       "      <td>high school us history</td>\n",
       "    </tr>\n",
       "    <tr>\n",
       "      <th>9733</th>\n",
       "      <td>Up to isomorphism, how many additive abelian g...</td>\n",
       "      <td>0</td>\n",
       "      <td>1</td>\n",
       "      <td>2</td>\n",
       "      <td>3</td>\n",
       "      <td>D</td>\n",
       "      <td>college mathematics</td>\n",
       "    </tr>\n",
       "  </tbody>\n",
       "</table>\n",
       "</div>"
      ],
      "text/plain": [
       "                                                question  \\\n",
       "4600   Children develop internal representational sys...   \n",
       "2082   Which of the following circumstances most like...   \n",
       "13288  What family do most European languages belong to?   \n",
       "13768  This question refers to the following informat...   \n",
       "9733   Up to isomorphism, how many additive abelian g...   \n",
       "\n",
       "                                                       A  \\\n",
       "4600                                        Sensorimotor   \n",
       "2082   There are unusual discrepancies between the en...   \n",
       "13288                                        Ural-Altaic   \n",
       "13768  New England businessmen, who were discriminate...   \n",
       "9733                                                   0   \n",
       "\n",
       "                                                       B  \\\n",
       "4600                                      Preoperational   \n",
       "2082   Management enforces strict budgetary controls ...   \n",
       "13288                                             Basque   \n",
       "13768  Southern women, who incorporated it into a lar...   \n",
       "9733                                                   1   \n",
       "\n",
       "                                                       C  \\\n",
       "4600                                            Symbolic   \n",
       "2082   Cash transactions are electronically processed...   \n",
       "13288                                      Indo-European   \n",
       "13768  bankers, who had run out of paper currency to ...   \n",
       "9733                                                   2   \n",
       "\n",
       "                                                       D answer  \\\n",
       "4600                                Concrete operational      B   \n",
       "2082   The monthly bank reconciliation ordinarily inc...      A   \n",
       "13288                                         Phoenician      C   \n",
       "13768  farmers, who hoped that a more generous money ...      D   \n",
       "9733                                                   3      D   \n",
       "\n",
       "                      category  \n",
       "4600    high school psychology  \n",
       "2082   professional accounting  \n",
       "13288    high school geography  \n",
       "13768   high school us history  \n",
       "9733       college mathematics  "
      ]
     },
     "execution_count": 4,
     "metadata": {},
     "output_type": "execute_result"
    }
   ],
   "source": [
    "questions.sample(n=5)"
   ]
  },
  {
   "cell_type": "markdown",
   "id": "65aea115-1257-415b-b2b9-5e1f9d8cb433",
   "metadata": {},
   "source": [
    "# Answer Distribution\n",
    "\n",
    "Our goal is to quantify a model's inherrent positional bias by measuring the difference in accuracy caused by shifting all the correct answers to a specific option. However, if the initial pool of questions is already biased, it becomes difficult to confidently estimate the model's underlying bias.\n",
    "\n",
    "Let's take a look at the distribution of correct answers in MMLU dataset."
   ]
  },
  {
   "cell_type": "code",
   "execution_count": 5,
   "id": "a5c36306-2ea0-408b-b895-1d56452f59b2",
   "metadata": {},
   "outputs": [
    {
     "data": {
      "text/plain": [
       "Text(0.5, 1.0, 'Examples')"
      ]
     },
     "execution_count": 5,
     "metadata": {},
     "output_type": "execute_result"
    },
    {
     "data": {
      "image/png": "[encoded data removed]",
      "text/plain": [
       "<Figure size 1200x400 with 2 Axes>"
      ]
     },
     "metadata": {},
     "output_type": "display_data"
    }
   ],
   "source": [
    "fig, axs = plt.subplots(ncols=2, figsize=(12, 4))\n",
    "\n",
    "questions.answer.value_counts().plot.bar(ax=axs[0])\n",
    "axs[0].set_title(\"Questions\")\n",
    "\n",
    "examples.answer.value_counts().plot.bar(ax=axs[1])\n",
    "axs[1].set_title(\"Examples\")"
   ]
  },
  {
   "cell_type": "markdown",
   "id": "2491cd96-423e-4c59-b9f9-cd91498d9faa",
   "metadata": {},
   "source": [
    "We can see a slight bias in both the test and example questions."
   ]
  },
  {
   "cell_type": "markdown",
   "id": "3d628e6b-9b65-4fa9-9440-b94251a53169",
   "metadata": {},
   "source": [
    "# Normalize Answer Distribution\n",
    "\n",
    "To better support our positional bias experiment, we normalize the answer distribution so each option is uniformly distributed."
   ]
  },
  {
   "cell_type": "markdown",
   "id": "89af1673-4bea-4178-9d1c-5ed2529a25f4",
   "metadata": {},
   "source": [
    "## Questions"
   ]
  },
  {
   "cell_type": "code",
   "execution_count": 6,
   "id": "61b9c710-4ea0-48c7-abb0-cc1cedece110",
   "metadata": {},
   "outputs": [],
   "source": [
    "normalized_questions = lmb.datasets.mmlu.normalize_question_answers(questions)"
   ]
  },
  {
   "cell_type": "code",
   "execution_count": 7,
   "id": "323d398b-1bdb-41b1-9094-e3a232aae337",
   "metadata": {},
   "outputs": [
    {
     "data": {
      "text/html": [
       "<div>\n",
       "<style scoped>\n",
       "    .dataframe tbody tr th:only-of-type {\n",
       "        vertical-align: middle;\n",
       "    }\n",
       "\n",
       "    .dataframe tbody tr th {\n",
       "        vertical-align: top;\n",
       "    }\n",
       "\n",
       "    .dataframe thead th {\n",
       "        text-align: right;\n",
       "    }\n",
       "</style>\n",
       "<table border=\"1\" class=\"dataframe\">\n",
       "  <thead>\n",
       "    <tr style=\"text-align: right;\">\n",
       "      <th></th>\n",
       "      <th>question</th>\n",
       "      <th>A</th>\n",
       "      <th>B</th>\n",
       "      <th>C</th>\n",
       "      <th>D</th>\n",
       "      <th>answer</th>\n",
       "      <th>category</th>\n",
       "    </tr>\n",
       "  </thead>\n",
       "  <tbody>\n",
       "    <tr>\n",
       "      <th>0</th>\n",
       "      <td>Long was a purchasing agent for Frost, a sole ...</td>\n",
       "      <td>Yes, because Long's agency survived Frost's in...</td>\n",
       "      <td>Yes, because the order was valid regardless of...</td>\n",
       "      <td>No, because Long did not have authority to ent...</td>\n",
       "      <td>No, because Grant dealt only with Long.</td>\n",
       "      <td>C</td>\n",
       "      <td>professional accounting</td>\n",
       "    </tr>\n",
       "    <tr>\n",
       "      <th>1</th>\n",
       "      <td>During a violent electrical storm one night, a...</td>\n",
       "      <td>The plaintiff, because the emergency measure w...</td>\n",
       "      <td>The city, because the church was the lowest bi...</td>\n",
       "      <td>The plaintiff, because the present arrangement...</td>\n",
       "      <td>The city, because the classroom arrangement do...</td>\n",
       "      <td>D</td>\n",
       "      <td>professional law</td>\n",
       "    </tr>\n",
       "    <tr>\n",
       "      <th>2</th>\n",
       "      <td>Under the Sales Article of the UCC, which of t...</td>\n",
       "      <td>The seller knows the particular purpose for wh...</td>\n",
       "      <td>The buyer is purchasing the goods for a partic...</td>\n",
       "      <td>The buyer is purchasing the goods for a partic...</td>\n",
       "      <td>The seller knows the particular purpose for wh...</td>\n",
       "      <td>A</td>\n",
       "      <td>professional accounting</td>\n",
       "    </tr>\n",
       "    <tr>\n",
       "      <th>3</th>\n",
       "      <td>Of the following choices the most direct excha...</td>\n",
       "      <td>firms supply goods to households in exchange f...</td>\n",
       "      <td>households provide resources to firms in excha...</td>\n",
       "      <td>households provide revenues to firms in exchan...</td>\n",
       "      <td>households provide goods to firms in exchange ...</td>\n",
       "      <td>A</td>\n",
       "      <td>high school macroeconomics</td>\n",
       "    </tr>\n",
       "    <tr>\n",
       "      <th>4</th>\n",
       "      <td>Research that demonstrates parents who play mo...</td>\n",
       "      <td>Psychodynamic</td>\n",
       "      <td>Cognitive development</td>\n",
       "      <td>Social learning</td>\n",
       "      <td>Gender schema</td>\n",
       "      <td>C</td>\n",
       "      <td>professional psychology</td>\n",
       "    </tr>\n",
       "  </tbody>\n",
       "</table>\n",
       "</div>"
      ],
      "text/plain": [
       "                                            question  \\\n",
       "0  Long was a purchasing agent for Frost, a sole ...   \n",
       "1  During a violent electrical storm one night, a...   \n",
       "2  Under the Sales Article of the UCC, which of t...   \n",
       "3  Of the following choices the most direct excha...   \n",
       "4  Research that demonstrates parents who play mo...   \n",
       "\n",
       "                                                   A  \\\n",
       "0  Yes, because Long's agency survived Frost's in...   \n",
       "1  The plaintiff, because the emergency measure w...   \n",
       "2  The seller knows the particular purpose for wh...   \n",
       "3  firms supply goods to households in exchange f...   \n",
       "4                                      Psychodynamic   \n",
       "\n",
       "                                                   B  \\\n",
       "0  Yes, because the order was valid regardless of...   \n",
       "1  The city, because the church was the lowest bi...   \n",
       "2  The buyer is purchasing the goods for a partic...   \n",
       "3  households provide resources to firms in excha...   \n",
       "4                              Cognitive development   \n",
       "\n",
       "                                                   C  \\\n",
       "0  No, because Long did not have authority to ent...   \n",
       "1  The plaintiff, because the present arrangement...   \n",
       "2  The buyer is purchasing the goods for a partic...   \n",
       "3  households provide revenues to firms in exchan...   \n",
       "4                                    Social learning   \n",
       "\n",
       "                                                   D answer  \\\n",
       "0            No, because Grant dealt only with Long.      C   \n",
       "1  The city, because the classroom arrangement do...      D   \n",
       "2  The seller knows the particular purpose for wh...      A   \n",
       "3  households provide goods to firms in exchange ...      A   \n",
       "4                                      Gender schema      C   \n",
       "\n",
       "                     category  \n",
       "0     professional accounting  \n",
       "1            professional law  \n",
       "2     professional accounting  \n",
       "3  high school macroeconomics  \n",
       "4     professional psychology  "
      ]
     },
     "execution_count": 7,
     "metadata": {},
     "output_type": "execute_result"
    }
   ],
   "source": [
    "normalized_questions.head()"
   ]
  },
  {
   "cell_type": "code",
   "execution_count": 8,
   "id": "0c64f2d5-2b1d-458a-aa2e-76523ce9f4e7",
   "metadata": {},
   "outputs": [
    {
     "data": {
      "text/plain": [
       "Text(0.5, 1.0, 'Normalized Questions')"
      ]
     },
     "execution_count": 8,
     "metadata": {},
     "output_type": "execute_result"
    },
    {
     "data": {
      "image/png": "[encoded data removed]",
      "text/plain": [
       "<Figure size 1200x400 with 2 Axes>"
      ]
     },
     "metadata": {},
     "output_type": "display_data"
    }
   ],
   "source": [
    "fig, axs = plt.subplots(ncols=2, figsize=(12, 4))\n",
    "\n",
    "questions.answer.value_counts().plot.bar(ax=axs[0])\n",
    "axs[0].set_title(\"Original Questions\")\n",
    "\n",
    "normalized_questions.answer.value_counts().plot.bar(ax=axs[1])\n",
    "axs[1].set_title(\"Normalized Questions\")"
   ]
  },
  {
   "cell_type": "markdown",
   "id": "22e64af7-52bf-4914-ad2c-5de6e9cef54d",
   "metadata": {},
   "source": [
    "## Examples\n",
    "\n",
    "Each category has 5 example questions used to generate few-shot prompts. Since we only have 4 options, we can't evenly distribute the 5 answers for each category. Since we're not trying to maximize model accuracy, we simply throw away one of the example questions and evenly distribute the remaining 4."
   ]
  },
  {
   "cell_type": "code",
   "execution_count": 9,
   "id": "5df623da-9189-4a2a-9328-b422b27861c9",
   "metadata": {},
   "outputs": [],
   "source": [
    "normalized_examples = lmb.datasets.mmlu.normalize_example_answers(examples)"
   ]
  },
  {
   "cell_type": "code",
   "execution_count": 10,
   "id": "30fcb9d9-4856-46d4-b890-f9387dbcae0d",
   "metadata": {},
   "outputs": [
    {
     "data": {
      "text/plain": [
       "Text(0.5, 1.0, 'Normalized Examples')"
      ]
     },
     "execution_count": 10,
     "metadata": {},
     "output_type": "execute_result"
    },
    {
     "data": {
      "image/png": "[encoded data removed]",
      "text/plain": [
       "<Figure size 1200x400 with 2 Axes>"
      ]
     },
     "metadata": {},
     "output_type": "display_data"
    }
   ],
   "source": [
    "fig, axs = plt.subplots(ncols=2, figsize=(12, 4))\n",
    "\n",
    "examples.answer.value_counts().plot.bar(ax=axs[0])\n",
    "axs[0].set_title(\"Original Examples\")\n",
    "\n",
    "normalized_examples.answer.value_counts().plot.bar(ax=axs[1])\n",
    "axs[1].set_title(\"Normalized Examples\")"
   ]
  },
  {
   "cell_type": "code",
   "execution_count": null,
   "id": "1ab696eb-946e-45b4-93f8-141448f0deb2",
   "metadata": {},
   "outputs": [],
   "source": []
  },
  {
   "cell_type": "code",
   "execution_count": null,
   "id": "faf9d310-2987-4f57-afe6-8c192d24078e",
   "metadata": {},
   "outputs": [],
   "source": []
  },
  {
   "cell_type": "code",
   "execution_count": null,
   "id": "f071674d-d22f-4b8e-a0a4-525b816d293e",
   "metadata": {},
   "outputs": [],
   "source": []
  },
  {
   "cell_type": "code",
   "execution_count": null,
   "id": "be541878-c5ca-4803-a519-ee5ba58b926a",
   "metadata": {},
   "outputs": [],
   "source": []
  },
  {
   "cell_type": "code",
   "execution_count": null,
   "id": "9b833065-ad59-4ed3-a38d-84da30f382ad",
   "metadata": {},
   "outputs": [],
   "source": []
  }
 ],
 "metadata": {
  "kernelspec": {
   "display_name": "Python 3 (ipykernel)",
   "language": "python",
   "name": "python3"
  },
  "language_info": {
   "codemirror_mode": {
    "name": "ipython",
    "version": 3
   },
   "file_extension": ".py",
   "mimetype": "text/x-python",
   "name": "python",
   "nbconvert_exporter": "python",
   "pygments_lexer": "ipython3",
   "version": "3.12.6"
  }
 },
 "nbformat": 4,
 "nbformat_minor": 5
}
