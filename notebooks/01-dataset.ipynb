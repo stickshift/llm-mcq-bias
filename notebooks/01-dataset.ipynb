{
 "cells": [
  {
   "cell_type": "markdown",
   "id": "b32ff302-2478-46a5-abe3-e3bc9c98034e",
   "metadata": {},
   "source": [
    "# Dataset\n",
    "\n",
    "Before we try to demonstrate positional bias, we need a good source of MCQs. We'll use the Measuring Massive Multitask Language Understanding (MMLU) (Hendrycks et al. 2021) dataset of multiple choice questions downloaded from the MMLU repository https://github.com/hendrycks/test. MMLU contains 14,042 MCQs from 57 categories.\n",
    "\n",
    "Here, we load the Measuring Massive Multitask Language Understanding (MMLU) (Hendrycks et al. 2021) dataset of multiple choice questions downloaded from the MMLU repository https://github.com/hendrycks/test. Each question has 4 options A, B, C, and D and one correct answer. In addition, each category has 5 example questions designed for consistent, 5-shot experiments."
   ]
  },
  {
   "cell_type": "markdown",
   "id": "fb3b5f13-7bdd-4c3e-8875-34a90aeb72f1",
   "metadata": {
    "jp-MarkdownHeadingCollapsed": true
   },
   "source": [
    "# Setup"
   ]
  },
  {
   "cell_type": "code",
   "execution_count": 1,
   "id": "8891440b-e068-473a-8e3d-f924c2ca1ab1",
   "metadata": {},
   "outputs": [],
   "source": [
    "import logging\n",
    "from pathlib import Path\n",
    "\n",
    "from matplotlib import pyplot as plt\n",
    "\n",
    "import llm_mcq_bias as lmb"
   ]
  },
  {
   "cell_type": "code",
   "execution_count": 2,
   "id": "44f043b0-a7cf-49bc-aaf2-8687e341275d",
   "metadata": {},
   "outputs": [],
   "source": [
    "project_path = Path(\"../\")\n",
    "datasets_path = project_path / \".build\" / \"datasets\"\n",
    "\n",
    "logger = logging.getLogger(__name__)"
   ]
  },
  {
   "cell_type": "markdown",
   "id": "78f9d195-bf77-434e-86e7-5e38f7457fe5",
   "metadata": {},
   "source": [
    "# Load Data\n",
    "\n",
    "We'll start by loading the unmodified MMLU dataset."
   ]
  },
  {
   "cell_type": "code",
   "execution_count": 3,
   "id": "fccbe16e-e85e-4472-abe5-0728335bbc1d",
   "metadata": {},
   "outputs": [],
   "source": [
    "# Load example questions\n",
    "examples = lmb.datasets.mmlu.load_dataset(datasets_path, segment=\"dev\")\n",
    "\n",
    "# Load test questions\n",
    "questions = lmb.datasets.mmlu.load_dataset(datasets_path, segment=\"test\")"
   ]
  },
  {
   "cell_type": "code",
   "execution_count": 4,
   "id": "434b92bd-1588-45e2-8d7d-f5ef659bce27",
   "metadata": {},
   "outputs": [
    {
     "data": {
      "text/html": [
       "<div>\n",
       "<style scoped>\n",
       "    .dataframe tbody tr th:only-of-type {\n",
       "        vertical-align: middle;\n",
       "    }\n",
       "\n",
       "    .dataframe tbody tr th {\n",
       "        vertical-align: top;\n",
       "    }\n",
       "\n",
       "    .dataframe thead th {\n",
       "        text-align: right;\n",
       "    }\n",
       "</style>\n",
       "<table border=\"1\" class=\"dataframe\">\n",
       "  <thead>\n",
       "    <tr style=\"text-align: right;\">\n",
       "      <th></th>\n",
       "      <th>question</th>\n",
       "      <th>A</th>\n",
       "      <th>B</th>\n",
       "      <th>C</th>\n",
       "      <th>D</th>\n",
       "      <th>answer</th>\n",
       "      <th>category</th>\n",
       "    </tr>\n",
       "  </thead>\n",
       "  <tbody>\n",
       "    <tr>\n",
       "      <th>6427</th>\n",
       "      <td>A condominium development consists of two buil...</td>\n",
       "      <td>No, because families with children are allowed...</td>\n",
       "      <td>No, because the amendment is based on legitima...</td>\n",
       "      <td>Yes, because families with children are alread...</td>\n",
       "      <td>Yes, because families with children cannot be ...</td>\n",
       "      <td>D</td>\n",
       "      <td>professional law</td>\n",
       "    </tr>\n",
       "    <tr>\n",
       "      <th>6354</th>\n",
       "      <td>An owner sold his home to a purchaser, who mov...</td>\n",
       "      <td>The first purchaser wins because the second pu...</td>\n",
       "      <td>The second purchaser will prevail because he r...</td>\n",
       "      <td>The first purchaser will prevail because she p...</td>\n",
       "      <td>The second purchaser wins because the first pu...</td>\n",
       "      <td>A</td>\n",
       "      <td>professional law</td>\n",
       "    </tr>\n",
       "    <tr>\n",
       "      <th>5002</th>\n",
       "      <td>What does Pence think is an appropriate stand...</td>\n",
       "      <td>There should be no standards for safety.</td>\n",
       "      <td>SCNT should not be allowed unless a healthy ba...</td>\n",
       "      <td>SCNT should be allowed when it falls within th...</td>\n",
       "      <td>none of the above</td>\n",
       "      <td>C</td>\n",
       "      <td>moral disputes</td>\n",
       "    </tr>\n",
       "    <tr>\n",
       "      <th>8139</th>\n",
       "      <td>Among the executive branch's checks on the leg...</td>\n",
       "      <td>call special sessions of Congress</td>\n",
       "      <td>introduce bills to the floor of Congress</td>\n",
       "      <td>address Congress during its debate on bills</td>\n",
       "      <td>vote on acts of Congress</td>\n",
       "      <td>A</td>\n",
       "      <td>high school government and politics</td>\n",
       "    </tr>\n",
       "    <tr>\n",
       "      <th>922</th>\n",
       "      <td>What was the key difference between US expansi...</td>\n",
       "      <td>US expansion was based on territory rather tha...</td>\n",
       "      <td>US expansion was based on markets rather than ...</td>\n",
       "      <td>US expansion was limited to Latin America post...</td>\n",
       "      <td>US expansion ended after 1865</td>\n",
       "      <td>B</td>\n",
       "      <td>us foreign policy</td>\n",
       "    </tr>\n",
       "  </tbody>\n",
       "</table>\n",
       "</div>"
      ],
      "text/plain": [
       "                                               question  \\\n",
       "6427  A condominium development consists of two buil...   \n",
       "6354  An owner sold his home to a purchaser, who mov...   \n",
       "5002   What does Pence think is an appropriate stand...   \n",
       "8139  Among the executive branch's checks on the leg...   \n",
       "922   What was the key difference between US expansi...   \n",
       "\n",
       "                                                      A  \\\n",
       "6427  No, because families with children are allowed...   \n",
       "6354  The first purchaser wins because the second pu...   \n",
       "5002           There should be no standards for safety.   \n",
       "8139                  call special sessions of Congress   \n",
       "922   US expansion was based on territory rather tha...   \n",
       "\n",
       "                                                      B  \\\n",
       "6427  No, because the amendment is based on legitima...   \n",
       "6354  The second purchaser will prevail because he r...   \n",
       "5002  SCNT should not be allowed unless a healthy ba...   \n",
       "8139           introduce bills to the floor of Congress   \n",
       "922   US expansion was based on markets rather than ...   \n",
       "\n",
       "                                                      C  \\\n",
       "6427  Yes, because families with children are alread...   \n",
       "6354  The first purchaser will prevail because she p...   \n",
       "5002  SCNT should be allowed when it falls within th...   \n",
       "8139        address Congress during its debate on bills   \n",
       "922   US expansion was limited to Latin America post...   \n",
       "\n",
       "                                                      D answer  \\\n",
       "6427  Yes, because families with children cannot be ...      D   \n",
       "6354  The second purchaser wins because the first pu...      A   \n",
       "5002                                  none of the above      C   \n",
       "8139                           vote on acts of Congress      A   \n",
       "922                       US expansion ended after 1865      B   \n",
       "\n",
       "                                 category  \n",
       "6427                     professional law  \n",
       "6354                     professional law  \n",
       "5002                       moral disputes  \n",
       "8139  high school government and politics  \n",
       "922                     us foreign policy  "
      ]
     },
     "execution_count": 4,
     "metadata": {},
     "output_type": "execute_result"
    }
   ],
   "source": [
    "questions.sample(n=5)"
   ]
  },
  {
   "cell_type": "markdown",
   "id": "65aea115-1257-415b-b2b9-5e1f9d8cb433",
   "metadata": {},
   "source": [
    "# Answer Distribution\n",
    "\n",
    "Our goal is to quantify a model's inherrent positional bias by measuring the difference in accuracy caused by shifting all the correct answers to a specific option. However, if the initial pool of questions is already biased, it becomes difficult to confidently estimate the model's underlying bias.\n",
    "\n",
    "Let's take a look at the distribution of correct answers in MMLU dataset."
   ]
  },
  {
   "cell_type": "code",
   "execution_count": 5,
   "id": "a5c36306-2ea0-408b-b895-1d56452f59b2",
   "metadata": {},
   "outputs": [
    {
     "data": {
      "text/plain": [
       "Text(0.5, 1.0, 'Examples')"
      ]
     },
     "execution_count": 5,
     "metadata": {},
     "output_type": "execute_result"
    },
    {
     "data": {
      "image/png": "[encoded data removed]",
      "text/plain": [
       "<Figure size 1200x400 with 2 Axes>"
      ]
     },
     "metadata": {},
     "output_type": "display_data"
    }
   ],
   "source": [
    "fig, axs = plt.subplots(ncols=2, figsize=(12, 4))\n",
    "\n",
    "questions.answer.value_counts().plot.bar(ax=axs[0])\n",
    "axs[0].set_title(\"Questions\")\n",
    "\n",
    "examples.answer.value_counts().plot.bar(ax=axs[1])\n",
    "axs[1].set_title(\"Examples\")"
   ]
  },
  {
   "cell_type": "markdown",
   "id": "2491cd96-423e-4c59-b9f9-cd91498d9faa",
   "metadata": {},
   "source": [
    "We can see a slight bias in both the test and example questions."
   ]
  },
  {
   "cell_type": "markdown",
   "id": "3d628e6b-9b65-4fa9-9440-b94251a53169",
   "metadata": {},
   "source": [
    "# Normalize Answer Distribution\n",
    "\n",
    "To better support our positional bias experiment, we normalize the answer distribution so each option is uniformly distributed."
   ]
  },
  {
   "cell_type": "markdown",
   "id": "89af1673-4bea-4178-9d1c-5ed2529a25f4",
   "metadata": {},
   "source": [
    "## Questions"
   ]
  },
  {
   "cell_type": "code",
   "execution_count": 6,
   "id": "61b9c710-4ea0-48c7-abb0-cc1cedece110",
   "metadata": {},
   "outputs": [],
   "source": [
    "normalized_questions = lmb.datasets.mmlu.normalize_question_answers(questions)"
   ]
  },
  {
   "cell_type": "code",
   "execution_count": 7,
   "id": "323d398b-1bdb-41b1-9094-e3a232aae337",
   "metadata": {},
   "outputs": [
    {
     "data": {
      "text/html": [
       "<div>\n",
       "<style scoped>\n",
       "    .dataframe tbody tr th:only-of-type {\n",
       "        vertical-align: middle;\n",
       "    }\n",
       "\n",
       "    .dataframe tbody tr th {\n",
       "        vertical-align: top;\n",
       "    }\n",
       "\n",
       "    .dataframe thead th {\n",
       "        text-align: right;\n",
       "    }\n",
       "</style>\n",
       "<table border=\"1\" class=\"dataframe\">\n",
       "  <thead>\n",
       "    <tr style=\"text-align: right;\">\n",
       "      <th></th>\n",
       "      <th>question</th>\n",
       "      <th>A</th>\n",
       "      <th>B</th>\n",
       "      <th>C</th>\n",
       "      <th>D</th>\n",
       "      <th>answer</th>\n",
       "      <th>category</th>\n",
       "    </tr>\n",
       "  </thead>\n",
       "  <tbody>\n",
       "    <tr>\n",
       "      <th>0</th>\n",
       "      <td>Light from a laser falls on a pair of very nar...</td>\n",
       "      <td>0.5 mm</td>\n",
       "      <td>0.25 mm</td>\n",
       "      <td>1.0 mm</td>\n",
       "      <td>2.0 mm</td>\n",
       "      <td>A</td>\n",
       "      <td>college physics</td>\n",
       "    </tr>\n",
       "    <tr>\n",
       "      <th>1</th>\n",
       "      <td>The 30 upright stones at Stonehenge are called...</td>\n",
       "      <td>legumes, sarsens</td>\n",
       "      <td>sarsens, lintels</td>\n",
       "      <td>lintels, stelae</td>\n",
       "      <td>trilithon, tholoi</td>\n",
       "      <td>B</td>\n",
       "      <td>prehistory</td>\n",
       "    </tr>\n",
       "    <tr>\n",
       "      <th>2</th>\n",
       "      <td>Three 25.00 mL samples of approximately 0.10 M...</td>\n",
       "      <td>There was an acid contaminating the unclean be...</td>\n",
       "      <td>The wrong indicator was used.</td>\n",
       "      <td>There was a base contaminating the unclean bea...</td>\n",
       "      <td>The indicator was added too late.</td>\n",
       "      <td>A</td>\n",
       "      <td>high school chemistry</td>\n",
       "    </tr>\n",
       "    <tr>\n",
       "      <th>3</th>\n",
       "      <td>What is the term Tuckman uses for reaching con...</td>\n",
       "      <td>Storming</td>\n",
       "      <td>Performing</td>\n",
       "      <td>Forming</td>\n",
       "      <td>Norming</td>\n",
       "      <td>D</td>\n",
       "      <td>management</td>\n",
       "    </tr>\n",
       "    <tr>\n",
       "      <th>4</th>\n",
       "      <td>On Metz's view, what kind of punishment is ju...</td>\n",
       "      <td>Harmful punishment that is proportionate to th...</td>\n",
       "      <td>All of the above.</td>\n",
       "      <td>Degradation proportionate to the degrading imp...</td>\n",
       "      <td>Unfriendly action that is proportionate to the...</td>\n",
       "      <td>D</td>\n",
       "      <td>moral disputes</td>\n",
       "    </tr>\n",
       "  </tbody>\n",
       "</table>\n",
       "</div>"
      ],
      "text/plain": [
       "                                            question  \\\n",
       "0  Light from a laser falls on a pair of very nar...   \n",
       "1  The 30 upright stones at Stonehenge are called...   \n",
       "2  Three 25.00 mL samples of approximately 0.10 M...   \n",
       "3  What is the term Tuckman uses for reaching con...   \n",
       "4   On Metz's view, what kind of punishment is ju...   \n",
       "\n",
       "                                                   A  \\\n",
       "0                                             0.5 mm   \n",
       "1                                   legumes, sarsens   \n",
       "2  There was an acid contaminating the unclean be...   \n",
       "3                                           Storming   \n",
       "4  Harmful punishment that is proportionate to th...   \n",
       "\n",
       "                               B  \\\n",
       "0                        0.25 mm   \n",
       "1               sarsens, lintels   \n",
       "2  The wrong indicator was used.   \n",
       "3                     Performing   \n",
       "4              All of the above.   \n",
       "\n",
       "                                                   C  \\\n",
       "0                                             1.0 mm   \n",
       "1                                    lintels, stelae   \n",
       "2  There was a base contaminating the unclean bea...   \n",
       "3                                            Forming   \n",
       "4  Degradation proportionate to the degrading imp...   \n",
       "\n",
       "                                                   D answer  \\\n",
       "0                                             2.0 mm      A   \n",
       "1                                  trilithon, tholoi      B   \n",
       "2                  The indicator was added too late.      A   \n",
       "3                                            Norming      D   \n",
       "4  Unfriendly action that is proportionate to the...      D   \n",
       "\n",
       "                category  \n",
       "0        college physics  \n",
       "1             prehistory  \n",
       "2  high school chemistry  \n",
       "3             management  \n",
       "4         moral disputes  "
      ]
     },
     "execution_count": 7,
     "metadata": {},
     "output_type": "execute_result"
    }
   ],
   "source": [
    "normalized_questions.head()"
   ]
  },
  {
   "cell_type": "code",
   "execution_count": 8,
   "id": "0c64f2d5-2b1d-458a-aa2e-76523ce9f4e7",
   "metadata": {},
   "outputs": [
    {
     "data": {
      "text/plain": [
       "Text(0.5, 1.0, 'Normalized Questions')"
      ]
     },
     "execution_count": 8,
     "metadata": {},
     "output_type": "execute_result"
    },
    {
     "data": {
      "image/png": "[encoded data removed]",
      "text/plain": [
       "<Figure size 1200x400 with 2 Axes>"
      ]
     },
     "metadata": {},
     "output_type": "display_data"
    }
   ],
   "source": [
    "fig, axs = plt.subplots(ncols=2, figsize=(12, 4))\n",
    "\n",
    "questions.answer.value_counts().plot.bar(ax=axs[0])\n",
    "axs[0].set_title(\"Original Questions\")\n",
    "\n",
    "normalized_questions.answer.value_counts().plot.bar(ax=axs[1])\n",
    "axs[1].set_title(\"Normalized Questions\")"
   ]
  },
  {
   "cell_type": "markdown",
   "id": "22e64af7-52bf-4914-ad2c-5de6e9cef54d",
   "metadata": {},
   "source": [
    "## Examples\n",
    "\n",
    "Each category has 5 example questions used to generate few-shot prompts. Since we only have 4 options, we can't evenly distribute the 5 answers for each category. Since we're not trying to maximize model accuracy, we simply throw away one of the example questions and evenly distribute the remaining 4."
   ]
  },
  {
   "cell_type": "code",
   "execution_count": 9,
   "id": "5df623da-9189-4a2a-9328-b422b27861c9",
   "metadata": {},
   "outputs": [],
   "source": [
    "normalized_examples = lmb.datasets.mmlu.normalize_example_answers(examples)"
   ]
  },
  {
   "cell_type": "code",
   "execution_count": 10,
   "id": "30fcb9d9-4856-46d4-b890-f9387dbcae0d",
   "metadata": {},
   "outputs": [
    {
     "data": {
      "text/plain": [
       "Text(0.5, 1.0, 'Normalized Examples')"
      ]
     },
     "execution_count": 10,
     "metadata": {},
     "output_type": "execute_result"
    },
    {
     "data": {
      "image/png": "[encoded data removed]",
      "text/plain": [
       "<Figure size 1200x400 with 2 Axes>"
      ]
     },
     "metadata": {},
     "output_type": "display_data"
    }
   ],
   "source": [
    "fig, axs = plt.subplots(ncols=2, figsize=(12, 4))\n",
    "\n",
    "examples.answer.value_counts().plot.bar(ax=axs[0])\n",
    "axs[0].set_title(\"Original Examples\")\n",
    "\n",
    "normalized_examples.answer.value_counts().plot.bar(ax=axs[1])\n",
    "axs[1].set_title(\"Normalized Examples\")"
   ]
  },
  {
   "cell_type": "code",
   "execution_count": null,
   "id": "1ab696eb-946e-45b4-93f8-141448f0deb2",
   "metadata": {},
   "outputs": [],
   "source": []
  },
  {
   "cell_type": "code",
   "execution_count": null,
   "id": "faf9d310-2987-4f57-afe6-8c192d24078e",
   "metadata": {},
   "outputs": [],
   "source": []
  },
  {
   "cell_type": "code",
   "execution_count": null,
   "id": "f071674d-d22f-4b8e-a0a4-525b816d293e",
   "metadata": {},
   "outputs": [],
   "source": []
  },
  {
   "cell_type": "code",
   "execution_count": null,
   "id": "be541878-c5ca-4803-a519-ee5ba58b926a",
   "metadata": {},
   "outputs": [],
   "source": []
  },
  {
   "cell_type": "code",
   "execution_count": null,
   "id": "9b833065-ad59-4ed3-a38d-84da30f382ad",
   "metadata": {},
   "outputs": [],
   "source": []
  }
 ],
 "metadata": {
  "kernelspec": {
   "display_name": "Python 3 (ipykernel)",
   "language": "python",
   "name": "python3"
  },
  "language_info": {
   "codemirror_mode": {
    "name": "ipython",
    "version": 3
   },
   "file_extension": ".py",
   "mimetype": "text/x-python",
   "name": "python",
   "nbconvert_exporter": "python",
   "pygments_lexer": "ipython3",
   "version": "3.12.6"
  }
 },
 "nbformat": 4,
 "nbformat_minor": 5
}
