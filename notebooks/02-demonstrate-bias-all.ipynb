{
 "cells": [
  {
   "cell_type": "markdown",
   "id": "bbf3002f-3004-4fc6-90f1-0af07682b26e",
   "metadata": {},
   "source": [
    "# Demonstrate Positional Bias\n",
    "\n",
    "Our goal here is to quantify positional bias inherrent in our LLM."
   ]
  },
  {
   "cell_type": "markdown",
   "id": "3c5dde05-1cdb-4b1b-9624-e848d0211089",
   "metadata": {
    "jp-MarkdownHeadingCollapsed": true
   },
   "source": [
    "# Setup"
   ]
  },
  {
   "cell_type": "code",
   "execution_count": 1,
   "id": "e1c16667-139d-4211-8ace-4c48419b614f",
   "metadata": {},
   "outputs": [],
   "source": [
    "from concurrent.futures import ThreadPoolExecutor, as_completed\n",
    "from functools import partial\n",
    "import json\n",
    "import logging\n",
    "import os\n",
    "from pathlib import Path\n",
    "from time import perf_counter_ns as timer\n",
    "from uuid import uuid4\n",
    "\n",
    "from pandas import DataFrame, Series\n",
    "import rich\n",
    "from rich.table import Table\n",
    "from tqdm import tqdm\n",
    "\n",
    "import llm_mcq_bias as lmb\n",
    "from llm_mcq_bias.datasets.mmlu import Evaluation, OPTIONS\n",
    "from llm_mcq_bias.models import Generator"
   ]
  },
  {
   "cell_type": "code",
   "execution_count": 2,
   "id": "9972849e-862d-44be-bdff-6299e8e152fb",
   "metadata": {
    "jupyter": {
     "source_hidden": true
    }
   },
   "outputs": [],
   "source": [
    "def print_table(rows, title: str | None = None):\n",
    "    table = Table(*[k for k in rows[0]], title=title, box=rich.box.SIMPLE)\n",
    "    for row in rows:\n",
    "        table.add_row(*[str(v) for v in row.values()])\n",
    "    rich.print(table)"
   ]
  },
  {
   "cell_type": "code",
   "execution_count": 3,
   "id": "52d9ede7-ba69-4129-8c04-e1c5cda116f5",
   "metadata": {},
   "outputs": [],
   "source": [
    "# Switch to project root\n",
    "os.chdir(\"..\")\n",
    "\n",
    "logger = logging.getLogger(__name__)"
   ]
  },
  {
   "cell_type": "markdown",
   "id": "97b09bb2-0aeb-436a-a111-0fc4b0c5899f",
   "metadata": {},
   "source": [
    "# Parameters"
   ]
  },
  {
   "cell_type": "code",
   "execution_count": 4,
   "id": "743d6fea-a824-4fdc-952a-275fdb0d94e4",
   "metadata": {},
   "outputs": [],
   "source": [
    "# Provider config\n",
    "providers = {\n",
    "    \"ollama\": {\n",
    "        \"model\": \"llama3.2:3b\",\n",
    "        \"options\": {\n",
    "            \"num_predict\": 10,  # Limit output tokens to avoid waiting for invalid responses\n",
    "            \"top_k\": 1,  # Disable token sampling\n",
    "        },\n",
    "        \"generator_factory\": lmb.models.ollama,\n",
    "    },\n",
    "    \"openai\": {\n",
    "        \"model\": \"gpt-4o-mini\",\n",
    "        \"options\": {\n",
    "            \"max_tokens\": 10,  # Limit output tokens to avoid waiting for invalid responses\n",
    "            \"temperature\": 0,  # Disable token sampling\n",
    "        },\n",
    "        \"generator_factory\": lmb.models.openai,\n",
    "    },\n",
    "}\n",
    "\n",
    "# Selected provider\n",
    "provider = \"ollama\""
   ]
  },
  {
   "cell_type": "code",
   "execution_count": 5,
   "id": "ff5e6367-2ec9-40b3-ab6a-ef10259005a1",
   "metadata": {},
   "outputs": [],
   "source": [
    "# Number of iterations\n",
    "n_epochs = 1\n",
    "\n",
    "# Number of questions to sample\n",
    "n_questions = 16\n",
    "\n",
    "# Number of parallel requests\n",
    "n_jobs = 3"
   ]
  },
  {
   "cell_type": "markdown",
   "id": "0ac59e38-4538-416b-bc05-a441ff8a36bc",
   "metadata": {},
   "source": [
    "# Demonstrate Bias"
   ]
  },
  {
   "cell_type": "code",
   "execution_count": 6,
   "id": "ef74a8b5-342f-4fe3-820d-a58ce0f06569",
   "metadata": {},
   "outputs": [
    {
     "name": "stdout",
     "output_type": "stream",
     "text": [
      "Configured ollama provider: llama3.2:3b, {'num_predict': 10, 'top_k': 1}\n"
     ]
    }
   ],
   "source": [
    "dataset_path = Path(\".build\") / \"datasets\" / \"mmlu\"\n",
    "\n",
    "# Load example questions\n",
    "examples = lmb.datasets.mmlu.load_dataset(dataset_path, segment=\"dev\")\n",
    "\n",
    "# Debias example answer distribution\n",
    "examples = lmb.datasets.mmlu.debias_example_answers(examples)\n",
    "\n",
    "# Load test questions\n",
    "questions = lmb.datasets.mmlu.load_dataset(dataset_path, segment=\"test\")\n",
    "\n",
    "# Initialize thread pool\n",
    "executor = ThreadPoolExecutor(max_workers=n_jobs)\n",
    "\n",
    "# Create generator from provider\n",
    "generator_factory = providers[provider][\"generator_factory\"]\n",
    "model = providers[provider][\"model\"]\n",
    "options = providers[provider][\"options\"]\n",
    "generator = partial(generator_factory, model=model, options=options)\n",
    "\n",
    "print(f\"Configured {provider} provider: {model}, {options}\")"
   ]
  },
  {
   "cell_type": "code",
   "execution_count": 7,
   "id": "e2bd801b-7838-4763-ad8e-564fc6655a64",
   "metadata": {},
   "outputs": [],
   "source": [
    "def answer_question(\n",
    "    *,\n",
    "    examples: DataFrame, \n",
    "    mcq: Series, \n",
    "    generator: Generator,\n",
    "):\n",
    "    \"\"\"Answer a question.\"\"\"\n",
    "    \n",
    "    # Generate prompt\n",
    "    prompt = lmb.datasets.mmlu.generate_prompt(examples, mcq)\n",
    "\n",
    "    # Generate answer\n",
    "    answer = generator(prompt=prompt)\n",
    "\n",
    "    # Evaluate answer\n",
    "    return lmb.datasets.mmlu.evaluate_answer(mcq, answer)\n",
    "\n",
    "\n",
    "def benchmark(\n",
    "    description: str,\n",
    "    *,\n",
    "    examples: DataFrame,\n",
    "    questions: DataFrame,\n",
    "    generator: Generator,\n",
    "):\n",
    "    \"\"\"Run experiment.\"\"\"\n",
    "    \n",
    "    n = len(questions)\n",
    "\n",
    "    start_time = timer()\n",
    "\n",
    "    # Answer and evaluate each question in parallel\n",
    "    futures = [\n",
    "        executor.submit(\n",
    "            answer_question, \n",
    "            examples=examples, \n",
    "            mcq=mcq, \n",
    "            generator=generator,\n",
    "        ) for _, mcq in questions.iterrows()\n",
    "    ]\n",
    "\n",
    "    # Collect results\n",
    "    correct, errors = 0, 0\n",
    "    for future in tqdm(as_completed(futures), total=n, desc=description):\n",
    "        evaluation = future.result()\n",
    "        if evaluation is Evaluation.CORRECT:\n",
    "            correct += 1\n",
    "        elif evaluation is Evaluation.ERROR:\n",
    "            errors += 1\n",
    "\n",
    "    duration = timer() - start_time\n",
    "\n",
    "    # Derive metrics\n",
    "    metrics = {\n",
    "        \"n\": n,\n",
    "        \"correct\": correct,\n",
    "        \"errors\": errors,\n",
    "        \"accuracy\": correct / (n - errors),\n",
    "        \"error_rate\": errors / n,\n",
    "        \"rps\": 1000000000 * n / duration,\n",
    "    }\n",
    "\n",
    "    return metrics"
   ]
  },
  {
   "cell_type": "markdown",
   "id": "1725062b-af28-465e-9e63-ed811d778d04",
   "metadata": {},
   "source": [
    "### Verify Stable Benchmark Results\n",
    "\n",
    "Let's make sure our benchmark process produces consistent results when run against the same inputs."
   ]
  },
  {
   "cell_type": "code",
   "execution_count": 8,
   "id": "ccc163e0-0718-4d08-b107-08424c406df3",
   "metadata": {},
   "outputs": [
    {
     "data": {
      "text/plain": [
       "<Axes: xlabel='answer'>"
      ]
     },
     "execution_count": 8,
     "metadata": {},
     "output_type": "execute_result"
    },
    {
     "data": {
      "image/png": "[encoded data removed]",
      "text/plain": [
       "<Figure size 640x480 with 1 Axes>"
      ]
     },
     "metadata": {},
     "output_type": "display_data"
    }
   ],
   "source": [
    "# Sample questions\n",
    "selected_questions = questions.sample(n=16)\n",
    "\n",
    "# Debias answer distribution\n",
    "selected_questions = lmb.datasets.mmlu.debias_question_answers(selected_questions)\n",
    "\n",
    "# Plot answer distribution\n",
    "selected_questions.answer.value_counts().plot.bar()"
   ]
  },
  {
   "cell_type": "code",
   "execution_count": 9,
   "id": "fafbe10b-2249-435a-950c-d716b4ab8fa1",
   "metadata": {
    "scrolled": true
   },
   "outputs": [
    {
     "name": "stdout",
     "output_type": "stream",
     "text": [
      "You are a robot that only outputs JSON. You reply in JSON format with the field 'answer'. For example, the following are multiple choice questions about formal logic.\n",
      "\n",
      "Example Question:  Select the best English interpretation of the given arguments in predicate logic.\n",
      "Dm\n",
      "(∀x)(Wx ⊃ ~Dx)\n",
      "(∀x)Wx ∨ Ag\t/ (∃x)Ax\n",
      "\n",
      "A) Marina is a dancer. No weakling is a dancer. Either everything is a weakling or Georgia plays volleyball. So something plays volleyball.\n",
      "B) Marina is a dancer. No weakling is a dancer. Everything is either a weakling or plays volleyball. So something plays volleyball.\n",
      "C) Marina is a dancer. Some weaklings are not dancers. Everything is either a weakling or plays volleyball. So something plays volleyball.\n",
      "D) Marina is a dancer. Some weaklings are not dancers. Either everything is a weakling or Georgia plays volleyball. So something plays volleyball.\n",
      "\n",
      "Example Answer: {\"answer\": \"A\"}\n",
      "\n",
      "Example Question:  Construct a complete truth table for the following pairs of propositions. Then, using the truth tables, determine whether the statements are logically equivalent or contradictory. If neither, determine whether they are consistent or inconsistent. Justify your answers.\n",
      "E ⊃ (F · E) and ~E · F\n",
      "\n",
      "A) Logically equivalent\n",
      "B) Neither logically equivalent nor contradictory, but consistent\n",
      "C) Contradictory\n",
      "D) Inconsistent\n",
      "\n",
      "Example Answer: {\"answer\": \"B\"}\n",
      "\n",
      "Example Question: Select the best translation into predicate logic.George borrows Hector's lawnmower. (g: George; h: Hector; l: Hector's lawnmower; Bxyx: x borrows y from z)\n",
      "\n",
      "A) Blgh\n",
      "B) Bhlg\n",
      "C) Bghl\n",
      "D) Bglh\n",
      "\n",
      "Example Answer: {\"answer\": \"D\"}\n",
      "\n",
      "Example Question:  Which of the given formulas of PL is the best symbolization of the following sentence?\n",
      "Turtles live long lives and are happy creatures, unless they are injured.\n",
      "\n",
      "A) (L • H) ≡ I\n",
      "B) L • (H ∨ I)\n",
      "C) (L • H) ∨ I\n",
      "D) L • (H ⊃ R)\n",
      "\n",
      "Example Answer: {\"answer\": \"C\"}\n",
      "\n",
      "Given the examples above, your task is to answer the following question.\n",
      "\n",
      "Question:  Construct a complete truth table for the following pairs of propositions. Then, using the truth tables, determine whether the statements are logically equivalent or contradictory. If neither, determine whether they are consistent or inconsistent. Justify your answers.\n",
      "(G ∨ ~H) ⊃ G and ~G ≡ (~H · G)\n",
      "\n",
      "A) Logically equivalent\n",
      "B) Contradictory\n",
      "C) Neither logically equivalent nor contradictory, but consistent\n",
      "D) Inconsistent\n",
      "\n",
      "Answer: \n"
     ]
    }
   ],
   "source": [
    "# Print example prompt\n",
    "print(lmb.datasets.mmlu.generate_prompt(examples, selected_questions.iloc[0]))"
   ]
  },
  {
   "cell_type": "code",
   "execution_count": 10,
   "id": "e0c1ff00-a43e-41d1-9c89-6e6642f09620",
   "metadata": {},
   "outputs": [
    {
     "name": "stderr",
     "output_type": "stream",
     "text": [
      "epoch 0: 100%|█████████████████████████████████████████████████████████████████████████████████████████████████████████████████████████████████████████████| 16/16 [00:10<00:00,  1.46it/s]\n",
      "epoch 1: 100%|█████████████████████████████████████████████████████████████████████████████████████████████████████████████████████████████████████████████| 16/16 [00:11<00:00,  1.43it/s]\n",
      "epoch 2: 100%|█████████████████████████████████████████████████████████████████████████████████████████████████████████████████████████████████████████████| 16/16 [00:11<00:00,  1.39it/s]\n"
     ]
    },
    {
     "data": {
      "text/html": [
       "<pre style=\"white-space:pre;overflow-x:auto;line-height:normal;font-family:Menlo,'DejaVu Sans Mono',consolas,'Courier New',monospace\">                                                                      \n",
       " <span style=\"font-weight: bold\"> n  </span> <span style=\"font-weight: bold\"> correct </span> <span style=\"font-weight: bold\"> errors </span> <span style=\"font-weight: bold\"> accuracy </span> <span style=\"font-weight: bold\"> error_rate </span> <span style=\"font-weight: bold\"> rps                </span> \n",
       " ──────────────────────────────────────────────────────────────────── \n",
       "  16   8         0        0.5        0.0          1.4564757760458655  \n",
       "  16   8         0        0.5        0.0          1.4299601017671324  \n",
       "  16   8         0        0.5        0.0          1.3902359565708458  \n",
       "                                                                      \n",
       "</pre>\n"
      ],
      "text/plain": [
       "                                                                      \n",
       " \u001b[1m \u001b[0m\u001b[1mn \u001b[0m\u001b[1m \u001b[0m \u001b[1m \u001b[0m\u001b[1mcorrect\u001b[0m\u001b[1m \u001b[0m \u001b[1m \u001b[0m\u001b[1merrors\u001b[0m\u001b[1m \u001b[0m \u001b[1m \u001b[0m\u001b[1maccuracy\u001b[0m\u001b[1m \u001b[0m \u001b[1m \u001b[0m\u001b[1merror_rate\u001b[0m\u001b[1m \u001b[0m \u001b[1m \u001b[0m\u001b[1mrps               \u001b[0m\u001b[1m \u001b[0m \n",
       " ──────────────────────────────────────────────────────────────────── \n",
       "  16   8         0        0.5        0.0          1.4564757760458655  \n",
       "  16   8         0        0.5        0.0          1.4299601017671324  \n",
       "  16   8         0        0.5        0.0          1.3902359565708458  \n",
       "                                                                      \n"
      ]
     },
     "metadata": {},
     "output_type": "display_data"
    },
    {
     "name": "stdout",
     "output_type": "stream",
     "text": [
      "CPU times: user 104 ms, sys: 30 ms, total: 134 ms\n",
      "Wall time: 33.7 s\n"
     ]
    }
   ],
   "source": [
    "%%time\n",
    "\n",
    "rows = []\n",
    "for i in range(3):\n",
    "    # Run benchmark\n",
    "    metrics = benchmark(\n",
    "        f\"epoch {i}\",\n",
    "        examples=examples,\n",
    "        questions=selected_questions,\n",
    "        generator=generator\n",
    "    )\n",
    "\n",
    "    rows.append(metrics)\n",
    "\n",
    "print_table(rows)"
   ]
  },
  {
   "cell_type": "markdown",
   "id": "87c39e34-9333-4798-b059-b55748fbcade",
   "metadata": {},
   "source": [
    "## Estimate Positional Bias"
   ]
  },
  {
   "cell_type": "code",
   "execution_count": 14,
   "id": "af877f4d-2cc3-40b3-8a92-3ad28e5e0a63",
   "metadata": {},
   "outputs": [
    {
     "name": "stderr",
     "output_type": "stream",
     "text": [
      "uniform: 100%|█████████████████████████████████████████████████████████████████████████████████████████████████████████████████████████████████████████████| 16/16 [00:12<00:00,  1.27it/s]\n",
      "A: 100%|███████████████████████████████████████████████████████████████████████████████████████████████████████████████████████████████████████████████████| 16/16 [00:13<00:00,  1.21it/s]\n",
      "B: 100%|███████████████████████████████████████████████████████████████████████████████████████████████████████████████████████████████████████████████████| 16/16 [00:13<00:00,  1.19it/s]\n",
      "D: 100%|███████████████████████████████████████████████████████████████████████████████████████████████████████████████████████████████████████████████████| 16/16 [00:13<00:00,  1.15it/s]\n",
      "C: 100%|███████████████████████████████████████████████████████████████████████████████████████████████████████████████████████████████████████████████████| 16/16 [00:13<00:00,  1.18it/s]"
     ]
    },
    {
     "name": "stdout",
     "output_type": "stream",
     "text": [
      "CPU times: user 158 ms, sys: 22.5 ms, total: 180 ms\n",
      "Wall time: 1min 6s\n"
     ]
    },
    {
     "name": "stderr",
     "output_type": "stream",
     "text": [
      "\n"
     ]
    }
   ],
   "source": [
    "%%time\n",
    "\n",
    "# Repeat over multiple iterations\n",
    "rows = []\n",
    "for _ in range(n_epochs):\n",
    "    # Sample questions\n",
    "    selected_questions = questions.sample(n=n_questions)\n",
    "\n",
    "    # Debias answer distribution\n",
    "    selected_questions = lmb.datasets.mmlu.debias_question_answers(selected_questions)\n",
    "\n",
    "    # Initialize metrics\n",
    "    metrics = {}\n",
    "\n",
    "    # Record performance w/ original data\n",
    "    metrics[\"U\"] = benchmark(\n",
    "        \"U\",\n",
    "        examples=examples,\n",
    "        questions=selected_questions,\n",
    "        generator=generator\n",
    "    )\n",
    "\n",
    "    # Record performance w/ answers shifted to each position\n",
    "    for option in OPTIONS:\n",
    "        # Swap answers to selected option\n",
    "        q = lmb.datasets.mmlu.swap_options(selected_questions, option)\n",
    "\n",
    "        metrics[option] = benchmark(\n",
    "            option,\n",
    "            examples=examples,\n",
    "            questions=q,\n",
    "            generator=generator\n",
    "        )\n",
    "\n",
    "    rows.append(metrics)"
   ]
  },
  {
   "cell_type": "code",
   "execution_count": 12,
   "id": "c7cf71dd-01e1-42e7-ab66-798960c4b2e4",
   "metadata": {
    "jupyter": {
     "source_hidden": true
    }
   },
   "outputs": [
    {
     "data": {
      "text/html": [
       "<pre style=\"white-space:pre;overflow-x:auto;line-height:normal;font-family:Menlo,'DejaVu Sans Mono',consolas,'Courier New',monospace\">                           \n",
       " <span style=\"font-weight: bold\"> uniform </span> <span style=\"font-weight: bold\"> A </span> <span style=\"font-weight: bold\"> B </span> <span style=\"font-weight: bold\"> C </span> <span style=\"font-weight: bold\"> D </span> \n",
       " ───────────────────────── \n",
       "                           \n",
       "</pre>\n"
      ],
      "text/plain": [
       "                           \n",
       " \u001b[1m \u001b[0m\u001b[1muniform\u001b[0m\u001b[1m \u001b[0m \u001b[1m \u001b[0m\u001b[1mA\u001b[0m\u001b[1m \u001b[0m \u001b[1m \u001b[0m\u001b[1mB\u001b[0m\u001b[1m \u001b[0m \u001b[1m \u001b[0m\u001b[1mC\u001b[0m\u001b[1m \u001b[0m \u001b[1m \u001b[0m\u001b[1mD\u001b[0m\u001b[1m \u001b[0m \n",
       " ───────────────────────── \n",
       "                           \n"
      ]
     },
     "metadata": {},
     "output_type": "display_data"
    }
   ],
   "source": [
    "table = Table(\"uniform\", \"A\", \"B\", \"C\", \"D\", box=rich.box.SIMPLE)\n",
    "for row in rows:\n",
    "    baseline = row[\"uniform\"][\"accuracy\"]\n",
    "    offsets = {k: row[k][\"accuracy\"] - baseline for k in OPTIONS}\n",
    "    colors = {option: \"black\" for option in OPTIONS}\n",
    "    colors |= {option: \"red\" for option in OPTIONS if offsets[option] <= -0.05}\n",
    "    colors |= {option: \"green\" for option in OPTIONS if offsets[option] >= 0.05}\n",
    "    table.add_row(\n",
    "        f\"{baseline:0.2f}\",\n",
    "        f\"[{colors['A']}]{offsets['A']:0.2f}[/{colors['A']}]\",\n",
    "        f\"[{colors['B']}]{offsets['B']:0.2f}[/{colors['B']}]\",\n",
    "        f\"[{colors['C']}]{offsets['C']:0.2f}[/{colors['C']}]\",\n",
    "        f\"[{colors['D']}]{offsets['D']:0.2f}[/{colors['D']}]\",\n",
    "    )\n",
    "\n",
    "rich.print(table)"
   ]
  },
  {
   "cell_type": "markdown",
   "id": "940a7c2e-c8f3-465b-b68e-8f78f88e9171",
   "metadata": {},
   "source": [
    "# Export Results"
   ]
  },
  {
   "cell_type": "code",
   "execution_count": 16,
   "id": "000a8cfc-cc6e-410f-8bec-264b152f5e51",
   "metadata": {},
   "outputs": [
    {
     "data": {
      "text/plain": [
       "544"
      ]
     },
     "execution_count": 16,
     "metadata": {},
     "output_type": "execute_result"
    }
   ],
   "source": [
    "model_name = model.replace(\":\", \"-\")\n",
    "path = Path(f\"notebooks/results/order-dependency-{model_name}-{n_questions}-{n_epochs}-{uuid4().hex}.json\")\n",
    "path.write_text(json.dumps(rows))"
   ]
  },
  {
   "cell_type": "code",
   "execution_count": null,
   "id": "8df4207d-7cf3-4eaf-9291-1fbfcc5729fc",
   "metadata": {},
   "outputs": [],
   "source": []
  },
  {
   "cell_type": "code",
   "execution_count": null,
   "id": "ce4e3f48-eb24-4c3a-a4bd-38341b4f7dd7",
   "metadata": {},
   "outputs": [],
   "source": []
  }
 ],
 "metadata": {
  "kernelspec": {
   "display_name": "Python 3 (ipykernel)",
   "language": "python",
   "name": "python3"
  },
  "language_info": {
   "codemirror_mode": {
    "name": "ipython",
    "version": 3
   },
   "file_extension": ".py",
   "mimetype": "text/x-python",
   "name": "python",
   "nbconvert_exporter": "python",
   "pygments_lexer": "ipython3",
   "version": "3.12.6"
  }
 },
 "nbformat": 4,
 "nbformat_minor": 5
}
